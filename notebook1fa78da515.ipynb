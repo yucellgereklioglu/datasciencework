{
 "cells": [
  {
   "cell_type": "code",
   "execution_count": 1,
   "id": "65641784",
   "metadata": {
    "_cell_guid": "b1076dfc-b9ad-4769-8c92-a6c4dae69d19",
    "_uuid": "8f2839f25d086af736a60e9eeb907d3b93b6e0e5",
    "execution": {
     "iopub.execute_input": "2025-07-14T16:16:27.740181Z",
     "iopub.status.busy": "2025-07-14T16:16:27.739809Z",
     "iopub.status.idle": "2025-07-14T16:16:29.631179Z",
     "shell.execute_reply": "2025-07-14T16:16:29.629828Z"
    },
    "papermill": {
     "duration": 1.898764,
     "end_time": "2025-07-14T16:16:29.633095",
     "exception": false,
     "start_time": "2025-07-14T16:16:27.734331",
     "status": "completed"
    },
    "tags": []
   },
   "outputs": [
    {
     "name": "stdout",
     "output_type": "stream",
     "text": [
      "/kaggle/input/playground-series-s5e7/sample_submission.csv\n",
      "/kaggle/input/playground-series-s5e7/train.csv\n",
      "/kaggle/input/playground-series-s5e7/test.csv\n"
     ]
    }
   ],
   "source": [
    "# This Python 3 environment comes with many helpful analytics libraries installed\n",
    "# It is defined by the kaggle/python Docker image: https://github.com/kaggle/docker-python\n",
    "# For example, here's several helpful packages to load\n",
    "\n",
    "import numpy as np # linear algebra\n",
    "import pandas as pd # data processing, CSV file I/O (e.g. pd.read_csv)\n",
    "\n",
    "# Input data files are available in the read-only \"../input/\" directory\n",
    "# For example, running this (by clicking run or pressing Shift+Enter) will list all files under the input directory\n",
    "\n",
    "import os\n",
    "for dirname, _, filenames in os.walk('/kaggle/input'):\n",
    "    for filename in filenames:\n",
    "        print(os.path.join(dirname, filename))\n",
    "\n",
    "# You can write up to 20GB to the current directory (/kaggle/working/) that gets preserved as output when you create a version using \"Save & Run All\" \n",
    "# You can also write temporary files to /kaggle/temp/, but they won't be saved outside of the current session"
   ]
  },
  {
   "cell_type": "code",
   "execution_count": 2,
   "id": "2346abdf",
   "metadata": {
    "execution": {
     "iopub.execute_input": "2025-07-14T16:16:29.642652Z",
     "iopub.status.busy": "2025-07-14T16:16:29.642216Z",
     "iopub.status.idle": "2025-07-14T16:16:31.637918Z",
     "shell.execute_reply": "2025-07-14T16:16:31.636948Z"
    },
    "papermill": {
     "duration": 2.002238,
     "end_time": "2025-07-14T16:16:31.639642",
     "exception": false,
     "start_time": "2025-07-14T16:16:29.637404",
     "status": "completed"
    },
    "tags": []
   },
   "outputs": [],
   "source": [
    "from sklearn.svm import SVC\n",
    "from sklearn.tree import DecisionTreeClassifier\n",
    "from sklearn.preprocessing import LabelEncoder\n",
    "from sklearn.model_selection import train_test_split\n",
    "from sklearn.metrics import accuracy_score, confusion_matrix\n",
    "train=pd.read_csv(\"/kaggle/input/playground-series-s5e7/train.csv\")\n",
    "test=pd.read_csv(\"/kaggle/input/playground-series-s5e7/test.csv\")"
   ]
  },
  {
   "cell_type": "code",
   "execution_count": 3,
   "id": "f7159877",
   "metadata": {
    "execution": {
     "iopub.execute_input": "2025-07-14T16:16:31.648525Z",
     "iopub.status.busy": "2025-07-14T16:16:31.648215Z",
     "iopub.status.idle": "2025-07-14T16:16:31.679020Z",
     "shell.execute_reply": "2025-07-14T16:16:31.678183Z"
    },
    "papermill": {
     "duration": 0.037059,
     "end_time": "2025-07-14T16:16:31.680679",
     "exception": false,
     "start_time": "2025-07-14T16:16:31.643620",
     "status": "completed"
    },
    "tags": []
   },
   "outputs": [],
   "source": [
    "numeric_cols_train = train.select_dtypes(include=np.number).columns\n",
    "medians_train = train[numeric_cols_train].median()\n",
    "train[numeric_cols_train] = train[numeric_cols_train].fillna(medians_train)\n",
    "numeric_cols_test = test.select_dtypes(include=np.number).columns\n",
    "medians_test = test[numeric_cols_test].median()\n",
    "test[numeric_cols_test] = test[numeric_cols_test].fillna(medians_test)"
   ]
  },
  {
   "cell_type": "code",
   "execution_count": 4,
   "id": "b537a8fe",
   "metadata": {
    "execution": {
     "iopub.execute_input": "2025-07-14T16:16:31.689268Z",
     "iopub.status.busy": "2025-07-14T16:16:31.688958Z",
     "iopub.status.idle": "2025-07-14T16:16:31.709975Z",
     "shell.execute_reply": "2025-07-14T16:16:31.708944Z"
    },
    "papermill": {
     "duration": 0.027487,
     "end_time": "2025-07-14T16:16:31.711831",
     "exception": false,
     "start_time": "2025-07-14T16:16:31.684344",
     "status": "completed"
    },
    "tags": []
   },
   "outputs": [],
   "source": [
    "le=LabelEncoder()\n",
    "train['Stage_fear']=le.fit_transform(train['Stage_fear'])\n",
    "train['Personality']=le.fit_transform(train['Personality'])\n",
    "train['Drained_after_socializing']=le.fit_transform(train['Drained_after_socializing'])\n",
    "test['Stage_fear']=le.fit_transform(test['Stage_fear'])\n",
    "test['Drained_after_socializing']=le.fit_transform(test['Drained_after_socializing'])\n"
   ]
  },
  {
   "cell_type": "code",
   "execution_count": 5,
   "id": "9e3ba3fb",
   "metadata": {
    "execution": {
     "iopub.execute_input": "2025-07-14T16:16:31.720344Z",
     "iopub.status.busy": "2025-07-14T16:16:31.720060Z",
     "iopub.status.idle": "2025-07-14T16:16:31.748251Z",
     "shell.execute_reply": "2025-07-14T16:16:31.747324Z"
    },
    "papermill": {
     "duration": 0.034055,
     "end_time": "2025-07-14T16:16:31.749655",
     "exception": false,
     "start_time": "2025-07-14T16:16:31.715600",
     "status": "completed"
    },
    "tags": []
   },
   "outputs": [
    {
     "data": {
      "text/html": [
       "<div>\n",
       "<style scoped>\n",
       "    .dataframe tbody tr th:only-of-type {\n",
       "        vertical-align: middle;\n",
       "    }\n",
       "\n",
       "    .dataframe tbody tr th {\n",
       "        vertical-align: top;\n",
       "    }\n",
       "\n",
       "    .dataframe thead th {\n",
       "        text-align: right;\n",
       "    }\n",
       "</style>\n",
       "<table border=\"1\" class=\"dataframe\">\n",
       "  <thead>\n",
       "    <tr style=\"text-align: right;\">\n",
       "      <th></th>\n",
       "      <th>Time_spent_Alone</th>\n",
       "      <th>Stage_fear</th>\n",
       "      <th>Social_event_attendance</th>\n",
       "      <th>Going_outside</th>\n",
       "      <th>Drained_after_socializing</th>\n",
       "      <th>Friends_circle_size</th>\n",
       "      <th>Post_frequency</th>\n",
       "      <th>Personality</th>\n",
       "    </tr>\n",
       "  </thead>\n",
       "  <tbody>\n",
       "    <tr>\n",
       "      <th>0</th>\n",
       "      <td>0.0</td>\n",
       "      <td>0</td>\n",
       "      <td>6.0</td>\n",
       "      <td>4.0</td>\n",
       "      <td>0</td>\n",
       "      <td>15.0</td>\n",
       "      <td>5.0</td>\n",
       "      <td>0</td>\n",
       "    </tr>\n",
       "    <tr>\n",
       "      <th>1</th>\n",
       "      <td>1.0</td>\n",
       "      <td>0</td>\n",
       "      <td>7.0</td>\n",
       "      <td>3.0</td>\n",
       "      <td>0</td>\n",
       "      <td>10.0</td>\n",
       "      <td>8.0</td>\n",
       "      <td>0</td>\n",
       "    </tr>\n",
       "    <tr>\n",
       "      <th>2</th>\n",
       "      <td>6.0</td>\n",
       "      <td>1</td>\n",
       "      <td>1.0</td>\n",
       "      <td>0.0</td>\n",
       "      <td>2</td>\n",
       "      <td>3.0</td>\n",
       "      <td>0.0</td>\n",
       "      <td>1</td>\n",
       "    </tr>\n",
       "    <tr>\n",
       "      <th>3</th>\n",
       "      <td>3.0</td>\n",
       "      <td>0</td>\n",
       "      <td>7.0</td>\n",
       "      <td>3.0</td>\n",
       "      <td>0</td>\n",
       "      <td>11.0</td>\n",
       "      <td>5.0</td>\n",
       "      <td>0</td>\n",
       "    </tr>\n",
       "    <tr>\n",
       "      <th>4</th>\n",
       "      <td>1.0</td>\n",
       "      <td>0</td>\n",
       "      <td>4.0</td>\n",
       "      <td>4.0</td>\n",
       "      <td>0</td>\n",
       "      <td>13.0</td>\n",
       "      <td>5.0</td>\n",
       "      <td>0</td>\n",
       "    </tr>\n",
       "    <tr>\n",
       "      <th>...</th>\n",
       "      <td>...</td>\n",
       "      <td>...</td>\n",
       "      <td>...</td>\n",
       "      <td>...</td>\n",
       "      <td>...</td>\n",
       "      <td>...</td>\n",
       "      <td>...</td>\n",
       "      <td>...</td>\n",
       "    </tr>\n",
       "    <tr>\n",
       "      <th>18519</th>\n",
       "      <td>3.0</td>\n",
       "      <td>0</td>\n",
       "      <td>7.0</td>\n",
       "      <td>3.0</td>\n",
       "      <td>0</td>\n",
       "      <td>9.0</td>\n",
       "      <td>7.0</td>\n",
       "      <td>0</td>\n",
       "    </tr>\n",
       "    <tr>\n",
       "      <th>18520</th>\n",
       "      <td>1.0</td>\n",
       "      <td>2</td>\n",
       "      <td>6.0</td>\n",
       "      <td>7.0</td>\n",
       "      <td>0</td>\n",
       "      <td>6.0</td>\n",
       "      <td>5.0</td>\n",
       "      <td>0</td>\n",
       "    </tr>\n",
       "    <tr>\n",
       "      <th>18521</th>\n",
       "      <td>7.0</td>\n",
       "      <td>1</td>\n",
       "      <td>1.0</td>\n",
       "      <td>1.0</td>\n",
       "      <td>1</td>\n",
       "      <td>1.0</td>\n",
       "      <td>5.0</td>\n",
       "      <td>1</td>\n",
       "    </tr>\n",
       "    <tr>\n",
       "      <th>18522</th>\n",
       "      <td>2.0</td>\n",
       "      <td>1</td>\n",
       "      <td>1.0</td>\n",
       "      <td>0.0</td>\n",
       "      <td>1</td>\n",
       "      <td>5.0</td>\n",
       "      <td>2.0</td>\n",
       "      <td>1</td>\n",
       "    </tr>\n",
       "    <tr>\n",
       "      <th>18523</th>\n",
       "      <td>1.0</td>\n",
       "      <td>0</td>\n",
       "      <td>8.0</td>\n",
       "      <td>6.0</td>\n",
       "      <td>0</td>\n",
       "      <td>4.0</td>\n",
       "      <td>7.0</td>\n",
       "      <td>0</td>\n",
       "    </tr>\n",
       "  </tbody>\n",
       "</table>\n",
       "<p>18524 rows × 8 columns</p>\n",
       "</div>"
      ],
      "text/plain": [
       "       Time_spent_Alone  Stage_fear  Social_event_attendance  Going_outside  \\\n",
       "0                   0.0           0                      6.0            4.0   \n",
       "1                   1.0           0                      7.0            3.0   \n",
       "2                   6.0           1                      1.0            0.0   \n",
       "3                   3.0           0                      7.0            3.0   \n",
       "4                   1.0           0                      4.0            4.0   \n",
       "...                 ...         ...                      ...            ...   \n",
       "18519               3.0           0                      7.0            3.0   \n",
       "18520               1.0           2                      6.0            7.0   \n",
       "18521               7.0           1                      1.0            1.0   \n",
       "18522               2.0           1                      1.0            0.0   \n",
       "18523               1.0           0                      8.0            6.0   \n",
       "\n",
       "       Drained_after_socializing  Friends_circle_size  Post_frequency  \\\n",
       "0                              0                 15.0             5.0   \n",
       "1                              0                 10.0             8.0   \n",
       "2                              2                  3.0             0.0   \n",
       "3                              0                 11.0             5.0   \n",
       "4                              0                 13.0             5.0   \n",
       "...                          ...                  ...             ...   \n",
       "18519                          0                  9.0             7.0   \n",
       "18520                          0                  6.0             5.0   \n",
       "18521                          1                  1.0             5.0   \n",
       "18522                          1                  5.0             2.0   \n",
       "18523                          0                  4.0             7.0   \n",
       "\n",
       "       Personality  \n",
       "0                0  \n",
       "1                0  \n",
       "2                1  \n",
       "3                0  \n",
       "4                0  \n",
       "...            ...  \n",
       "18519            0  \n",
       "18520            0  \n",
       "18521            1  \n",
       "18522            1  \n",
       "18523            0  \n",
       "\n",
       "[18524 rows x 8 columns]"
      ]
     },
     "execution_count": 5,
     "metadata": {},
     "output_type": "execute_result"
    }
   ],
   "source": [
    "train_cleaned = train.drop(columns=['id'])\n",
    "train_cleaned"
   ]
  },
  {
   "cell_type": "code",
   "execution_count": 6,
   "id": "24a6ee52",
   "metadata": {
    "execution": {
     "iopub.execute_input": "2025-07-14T16:16:31.758477Z",
     "iopub.status.busy": "2025-07-14T16:16:31.758183Z",
     "iopub.status.idle": "2025-07-14T16:16:31.769380Z",
     "shell.execute_reply": "2025-07-14T16:16:31.768361Z"
    },
    "papermill": {
     "duration": 0.017452,
     "end_time": "2025-07-14T16:16:31.770994",
     "exception": false,
     "start_time": "2025-07-14T16:16:31.753542",
     "status": "completed"
    },
    "tags": []
   },
   "outputs": [],
   "source": [
    "from sklearn.model_selection import train_test_split\n",
    "y=train['Personality']\n",
    "x=train.drop('Personality',axis=1)\n",
    "x_train,x_test,y_train,y_test=train_test_split(x,y,test_size=0.24)"
   ]
  },
  {
   "cell_type": "code",
   "execution_count": 7,
   "id": "a2622da4",
   "metadata": {
    "execution": {
     "iopub.execute_input": "2025-07-14T16:16:31.780098Z",
     "iopub.status.busy": "2025-07-14T16:16:31.779697Z",
     "iopub.status.idle": "2025-07-14T16:16:34.178609Z",
     "shell.execute_reply": "2025-07-14T16:16:34.177669Z"
    },
    "papermill": {
     "duration": 2.405327,
     "end_time": "2025-07-14T16:16:34.180330",
     "exception": false,
     "start_time": "2025-07-14T16:16:31.775003",
     "status": "completed"
    },
    "tags": []
   },
   "outputs": [],
   "source": [
    "from catboost import CatBoostClassifier\n",
    "from sklearn.model_selection import RandomizedSearchCV,GridSearchCV \n",
    "from sklearn.metrics import f1_score, make_scorer\n",
    "import json\n",
    "from hyperopt import hp, fmin, tpe, STATUS_OK, Trials\n",
    "from sklearn.model_selection import cross_val_score\n",
    "from sklearn.metrics import f1_score, precision_score, recall_score, make_scorer,accuracy_score\n",
    "from catboost import CatBoostClassifier\n",
    "from hyperopt import hp, fmin, tpe, STATUS_OK, Trials\n",
    "from sklearn.model_selection import cross_val_score\n",
    "from sklearn.metrics import f1_score, make_scorer,accuracy_score\n",
    "from xgboost import XGBClassifier\n"
   ]
  },
  {
   "cell_type": "code",
   "execution_count": 8,
   "id": "178f7f12",
   "metadata": {
    "execution": {
     "iopub.execute_input": "2025-07-14T16:16:34.190253Z",
     "iopub.status.busy": "2025-07-14T16:16:34.189244Z",
     "iopub.status.idle": "2025-07-14T16:17:40.810089Z",
     "shell.execute_reply": "2025-07-14T16:17:40.809296Z"
    },
    "papermill": {
     "duration": 66.627443,
     "end_time": "2025-07-14T16:17:40.811739",
     "exception": false,
     "start_time": "2025-07-14T16:16:34.184296",
     "status": "completed"
    },
    "tags": []
   },
   "outputs": [
    {
     "name": "stderr",
     "output_type": "stream",
     "text": [
      "[I 2025-07-14 16:16:34,477] A new study created in memory with name: no-name-4e0752f9-311b-4614-b43c-97a222b528d1\n",
      "[I 2025-07-14 16:16:35,216] Trial 0 finished with value: 0.9649122807017544 and parameters: {'n_estimators': 203, 'learning_rate': 0.291134983341699, 'max_depth': 7, 'reg_lambda': 0.012809142642370189, 'reg_alpha': 0.0013252212163341142, 'colsample_bytree': 0.6094693000356932}. Best is trial 0 with value: 0.9649122807017544.\n",
      "[I 2025-07-14 16:16:35,512] Trial 1 finished with value: 0.9628879892037787 and parameters: {'n_estimators': 385, 'learning_rate': 0.7349890063132563, 'max_depth': 3, 'reg_lambda': 0.04307325702286811, 'reg_alpha': 0.6498441340013968, 'colsample_bytree': 0.701608870337924}. Best is trial 0 with value: 0.9649122807017544.\n",
      "[I 2025-07-14 16:16:35,733] Trial 2 finished with value: 0.9511920827710302 and parameters: {'n_estimators': 167, 'learning_rate': 0.757220947144087, 'max_depth': 6, 'reg_lambda': 0.06874333684665605, 'reg_alpha': 0.0038115661815172463, 'colsample_bytree': 0.9451727269981043}. Best is trial 0 with value: 0.9649122807017544.\n",
      "[I 2025-07-14 16:16:35,828] Trial 3 finished with value: 0.959289248762933 and parameters: {'n_estimators': 105, 'learning_rate': 1.1739129075978698, 'max_depth': 3, 'reg_lambda': 0.007402619451147307, 'reg_alpha': 0.011514748420141885, 'colsample_bytree': 0.8037028257806597}. Best is trial 0 with value: 0.9649122807017544.\n",
      "[I 2025-07-14 16:16:36,173] Trial 4 finished with value: 0.9520917678812416 and parameters: {'n_estimators': 245, 'learning_rate': 1.1980265689689114, 'max_depth': 7, 'reg_lambda': 0.0015899177677178957, 'reg_alpha': 0.8056263392781378, 'colsample_bytree': 0.9276224930808737}. Best is trial 0 with value: 0.9649122807017544.\n",
      "[I 2025-07-14 16:16:36,463] Trial 5 finished with value: 0.9646873594242016 and parameters: {'n_estimators': 211, 'learning_rate': 0.22977552110226046, 'max_depth': 7, 'reg_lambda': 0.0029858301718441228, 'reg_alpha': 0.07857346716494526, 'colsample_bytree': 0.5766908951583254}. Best is trial 0 with value: 0.9649122807017544.\n",
      "[I 2025-07-14 16:16:36,673] Trial 6 finished with value: 0.9689608636977058 and parameters: {'n_estimators': 279, 'learning_rate': 0.2344276714722599, 'max_depth': 3, 'reg_lambda': 0.05595834454632336, 'reg_alpha': 0.05103139979125944, 'colsample_bytree': 0.6177147021847919}. Best is trial 6 with value: 0.9689608636977058.\n",
      "[I 2025-07-14 16:16:37,165] Trial 7 finished with value: 0.9694107062528116 and parameters: {'n_estimators': 352, 'learning_rate': 0.13106076462743846, 'max_depth': 7, 'reg_lambda': 0.013098974856254175, 'reg_alpha': 0.8524309869341433, 'colsample_bytree': 0.7113581392327836}. Best is trial 7 with value: 0.9694107062528116.\n",
      "[I 2025-07-14 16:16:37,541] Trial 8 finished with value: 0.9631129104813315 and parameters: {'n_estimators': 297, 'learning_rate': 0.309912265641354, 'max_depth': 6, 'reg_lambda': 0.2076795724340958, 'reg_alpha': 0.00602493909336656, 'colsample_bytree': 0.901218550466197}. Best is trial 7 with value: 0.9694107062528116.\n",
      "[I 2025-07-14 16:16:37,720] Trial 9 finished with value: 0.9572649572649573 and parameters: {'n_estimators': 183, 'learning_rate': 1.6378290778588105, 'max_depth': 4, 'reg_lambda': 0.09948616692071835, 'reg_alpha': 0.09675359017857803, 'colsample_bytree': 0.5937758058719488}. Best is trial 7 with value: 0.9694107062528116.\n",
      "[I 2025-07-14 16:16:37,980] Trial 10 finished with value: 0.9698605488079173 and parameters: {'n_estimators': 448, 'learning_rate': 0.019491906972545298, 'max_depth': 1, 'reg_lambda': 0.6196624775405862, 'reg_alpha': 0.24278131558759147, 'colsample_bytree': 0.41360166137777393}. Best is trial 10 with value: 0.9698605488079173.\n",
      "[I 2025-07-14 16:16:38,232] Trial 11 finished with value: 0.9698605488079173 and parameters: {'n_estimators': 442, 'learning_rate': 0.016199383483028823, 'max_depth': 1, 'reg_lambda': 0.4795351776614735, 'reg_alpha': 0.229524503586457, 'colsample_bytree': 0.40258994154315825}. Best is trial 10 with value: 0.9698605488079173.\n",
      "[I 2025-07-14 16:16:38,488] Trial 12 finished with value: 0.9696356275303644 and parameters: {'n_estimators': 447, 'learning_rate': 0.011039144385488262, 'max_depth': 1, 'reg_lambda': 0.8933126479251358, 'reg_alpha': 0.21291915528897262, 'colsample_bytree': 0.40869115832584224}. Best is trial 10 with value: 0.9698605488079173.\n",
      "[I 2025-07-14 16:16:38,733] Trial 13 finished with value: 0.9698605488079173 and parameters: {'n_estimators': 441, 'learning_rate': 0.018025019695005716, 'max_depth': 1, 'reg_lambda': 0.9476934149022807, 'reg_alpha': 0.21778484312238242, 'colsample_bytree': 0.42076095840938643}. Best is trial 10 with value: 0.9698605488079173.\n",
      "[I 2025-07-14 16:16:38,986] Trial 14 finished with value: 0.9696356275303644 and parameters: {'n_estimators': 378, 'learning_rate': 0.03421737396321556, 'max_depth': 2, 'reg_lambda': 0.21635386507129226, 'reg_alpha': 0.26112289461395555, 'colsample_bytree': 0.49565421122081177}. Best is trial 10 with value: 0.9698605488079173.\n",
      "[I 2025-07-14 16:16:39,194] Trial 15 finished with value: 0.9691857849752586 and parameters: {'n_estimators': 336, 'learning_rate': 0.005032516689709744, 'max_depth': 1, 'reg_lambda': 0.3574079682775885, 'reg_alpha': 0.022904884181277837, 'colsample_bytree': 0.49454211090030853}. Best is trial 10 with value: 0.9698605488079173.\n",
      "[I 2025-07-14 16:16:39,487] Trial 16 finished with value: 0.9694107062528116 and parameters: {'n_estimators': 411, 'learning_rate': 0.047623325565156346, 'max_depth': 2, 'reg_lambda': 0.438899673277314, 'reg_alpha': 0.3090790246665089, 'colsample_bytree': 0.4919239923426782}. Best is trial 10 with value: 0.9698605488079173.\n",
      "[I 2025-07-14 16:16:39,728] Trial 17 finished with value: 0.9696356275303644 and parameters: {'n_estimators': 332, 'learning_rate': 0.05136716141188554, 'max_depth': 2, 'reg_lambda': 0.11914676614593522, 'reg_alpha': 0.03014365207625625, 'colsample_bytree': 0.40969036032272793}. Best is trial 10 with value: 0.9698605488079173.\n",
      "[I 2025-07-14 16:16:40,129] Trial 18 finished with value: 0.9698605488079173 and parameters: {'n_estimators': 405, 'learning_rate': 0.006122507194087022, 'max_depth': 4, 'reg_lambda': 0.47926735685097743, 'reg_alpha': 0.12434919454731415, 'colsample_bytree': 0.8110651853476897}. Best is trial 10 with value: 0.9698605488079173.\n",
      "[I 2025-07-14 16:16:40,671] Trial 19 finished with value: 0.9698605488079173 and parameters: {'n_estimators': 431, 'learning_rate': 0.01968217171951058, 'max_depth': 5, 'reg_lambda': 0.02126704523260134, 'reg_alpha': 0.4401339937007885, 'colsample_bytree': 0.5306159090714523}. Best is trial 10 with value: 0.9698605488079173.\n",
      "[I 2025-07-14 16:16:40,888] Trial 20 finished with value: 0.9696356275303644 and parameters: {'n_estimators': 309, 'learning_rate': 0.011107401078212937, 'max_depth': 2, 'reg_lambda': 0.188340906953411, 'reg_alpha': 0.1406287894203219, 'colsample_bytree': 0.4666828958253107}. Best is trial 10 with value: 0.9698605488079173.\n",
      "[I 2025-07-14 16:16:41,140] Trial 21 finished with value: 0.9698605488079173 and parameters: {'n_estimators': 448, 'learning_rate': 0.02067718541140642, 'max_depth': 1, 'reg_lambda': 0.8287786053766244, 'reg_alpha': 0.04997289018403648, 'colsample_bytree': 0.4064028947467451}. Best is trial 10 with value: 0.9698605488079173.\n",
      "[I 2025-07-14 16:16:41,378] Trial 22 finished with value: 0.9696356275303644 and parameters: {'n_estimators': 413, 'learning_rate': 0.08085791576685071, 'max_depth': 1, 'reg_lambda': 0.8907511844547878, 'reg_alpha': 0.4021606242133742, 'colsample_bytree': 0.45062325380181817}. Best is trial 10 with value: 0.9698605488079173.\n",
      "[I 2025-07-14 16:16:41,605] Trial 23 finished with value: 0.9698605488079173 and parameters: {'n_estimators': 373, 'learning_rate': 0.019186021786088497, 'max_depth': 1, 'reg_lambda': 0.47398369954094094, 'reg_alpha': 0.18648035925106754, 'colsample_bytree': 0.5472473756341698}. Best is trial 10 with value: 0.9698605488079173.\n",
      "[I 2025-07-14 16:16:41,883] Trial 24 finished with value: 0.9698605488079173 and parameters: {'n_estimators': 422, 'learning_rate': 0.011980642513742375, 'max_depth': 2, 'reg_lambda': 0.3282213351210349, 'reg_alpha': 0.07438291065600054, 'colsample_bytree': 0.4483801256534111}. Best is trial 10 with value: 0.9698605488079173.\n",
      "[I 2025-07-14 16:16:42,112] Trial 25 finished with value: 0.9691857849752586 and parameters: {'n_estimators': 387, 'learning_rate': 0.007807437264454383, 'max_depth': 1, 'reg_lambda': 0.632073238342289, 'reg_alpha': 0.3993177735346165, 'colsample_bytree': 0.6512983306211964}. Best is trial 10 with value: 0.9698605488079173.\n",
      "[I 2025-07-14 16:16:42,459] Trial 26 finished with value: 0.9698605488079173 and parameters: {'n_estimators': 447, 'learning_rate': 0.03338136020002672, 'max_depth': 3, 'reg_lambda': 0.13132798899324907, 'reg_alpha': 0.018391772480724225, 'colsample_bytree': 0.5287782898093611}. Best is trial 10 with value: 0.9698605488079173.\n",
      "[I 2025-07-14 16:16:42,702] Trial 27 finished with value: 0.9696356275303644 and parameters: {'n_estimators': 357, 'learning_rate': 0.09410586900817948, 'max_depth': 2, 'reg_lambda': 0.30824416135610017, 'reg_alpha': 0.17178669147299935, 'colsample_bytree': 0.4455632492307674}. Best is trial 10 with value: 0.9698605488079173.\n",
      "[I 2025-07-14 16:16:42,927] Trial 28 finished with value: 0.9698605488079173 and parameters: {'n_estimators': 399, 'learning_rate': 0.028854707769498295, 'max_depth': 1, 'reg_lambda': 0.9821223448164184, 'reg_alpha': 0.052211825281191476, 'colsample_bytree': 0.4088472811397198}. Best is trial 10 with value: 0.9698605488079173.\n",
      "[I 2025-07-14 16:16:43,216] Trial 29 finished with value: 0.9700854700854701 and parameters: {'n_estimators': 426, 'learning_rate': 0.01427468217650395, 'max_depth': 2, 'reg_lambda': 0.562412390387079, 'reg_alpha': 0.4877846986328706, 'colsample_bytree': 0.6427074029535327}. Best is trial 29 with value: 0.9700854700854701.\n",
      "[I 2025-07-14 16:16:43,504] Trial 30 finished with value: 0.9694107062528116 and parameters: {'n_estimators': 421, 'learning_rate': 0.060967098857014984, 'max_depth': 2, 'reg_lambda': 0.2155183541009505, 'reg_alpha': 0.0020500355711793815, 'colsample_bytree': 0.7525400194103562}. Best is trial 29 with value: 0.9700854700854701.\n",
      "[I 2025-07-14 16:16:43,749] Trial 31 finished with value: 0.9698605488079173 and parameters: {'n_estimators': 432, 'learning_rate': 0.01205013827765488, 'max_depth': 1, 'reg_lambda': 0.5982943482729622, 'reg_alpha': 0.5256539678785108, 'colsample_bytree': 0.6453360042667391}. Best is trial 29 with value: 0.9700854700854701.\n",
      "[I 2025-07-14 16:16:43,980] Trial 32 finished with value: 0.9698605488079173 and parameters: {'n_estimators': 402, 'learning_rate': 0.017117958342858963, 'max_depth': 1, 'reg_lambda': 0.5972428744420722, 'reg_alpha': 0.5527637894707172, 'colsample_bytree': 0.5571876419209901}. Best is trial 29 with value: 0.9700854700854701.\n",
      "[I 2025-07-14 16:16:44,345] Trial 33 finished with value: 0.9698605488079173 and parameters: {'n_estimators': 450, 'learning_rate': 0.027569069170963193, 'max_depth': 3, 'reg_lambda': 0.2735316489856878, 'reg_alpha': 0.3020250231543681, 'colsample_bytree': 0.9966600650902055}. Best is trial 29 with value: 0.9700854700854701.\n",
      "[I 2025-07-14 16:16:44,595] Trial 34 finished with value: 0.9698605488079173 and parameters: {'n_estimators': 368, 'learning_rate': 0.014441062123778102, 'max_depth': 2, 'reg_lambda': 0.1390234120682818, 'reg_alpha': 0.904764034916793, 'colsample_bytree': 0.47998601304260086}. Best is trial 29 with value: 0.9700854700854701.\n",
      "[I 2025-07-14 16:16:44,960] Trial 35 finished with value: 0.9696356275303644 and parameters: {'n_estimators': 391, 'learning_rate': 0.007682469805504626, 'max_depth': 4, 'reg_lambda': 0.06964165461579899, 'reg_alpha': 0.25458121164177977, 'colsample_bytree': 0.853925428046922}. Best is trial 29 with value: 0.9700854700854701.\n",
      "[I 2025-07-14 16:16:45,072] Trial 36 finished with value: 0.9680611785874944 and parameters: {'n_estimators': 127, 'learning_rate': 0.0073951486446712554, 'max_depth': 1, 'reg_lambda': 0.03100722809472591, 'reg_alpha': 0.14764349947889258, 'colsample_bytree': 0.5168898805061599}. Best is trial 29 with value: 0.9700854700854701.\n",
      "[I 2025-07-14 16:16:45,260] Trial 37 finished with value: 0.9698605488079173 and parameters: {'n_estimators': 233, 'learning_rate': 0.03859806578907232, 'max_depth': 2, 'reg_lambda': 0.004485116876048436, 'reg_alpha': 0.6650299618723143, 'colsample_bytree': 0.6860479487381088}. Best is trial 29 with value: 0.9700854700854701.\n",
      "[I 2025-07-14 16:16:45,607] Trial 38 finished with value: 0.9696356275303644 and parameters: {'n_estimators': 432, 'learning_rate': 0.02473279538604347, 'max_depth': 3, 'reg_lambda': 0.6326947733353261, 'reg_alpha': 0.10896636544231228, 'colsample_bytree': 0.44092593225394}. Best is trial 29 with value: 0.9700854700854701.\n",
      "[I 2025-07-14 16:16:45,775] Trial 39 finished with value: 0.9694107062528116 and parameters: {'n_estimators': 261, 'learning_rate': 0.1580515690447976, 'max_depth': 1, 'reg_lambda': 0.3897071158987578, 'reg_alpha': 0.009092073975590144, 'colsample_bytree': 0.7488123280143346}. Best is trial 29 with value: 0.9700854700854701.\n",
      "[I 2025-07-14 16:16:46,150] Trial 40 finished with value: 0.9698605488079173 and parameters: {'n_estimators': 333, 'learning_rate': 0.008737205460222998, 'max_depth': 5, 'reg_lambda': 0.0014183285626615848, 'reg_alpha': 0.06645832261227679, 'colsample_bytree': 0.6265238424055114}. Best is trial 29 with value: 0.9700854700854701.\n",
      "[I 2025-07-14 16:16:46,525] Trial 41 finished with value: 0.9698605488079173 and parameters: {'n_estimators': 400, 'learning_rate': 0.005658598254093446, 'max_depth': 4, 'reg_lambda': 0.5194168142034504, 'reg_alpha': 0.12840582422398225, 'colsample_bytree': 0.8083197507538452}. Best is trial 29 with value: 0.9700854700854701.\n",
      "[I 2025-07-14 16:16:47,077] Trial 42 finished with value: 0.9698605488079173 and parameters: {'n_estimators': 428, 'learning_rate': 0.01555913456383307, 'max_depth': 6, 'reg_lambda': 0.6987603543301922, 'reg_alpha': 0.32732536914456384, 'colsample_bytree': 0.873602592711196}. Best is trial 29 with value: 0.9700854700854701.\n",
      "[I 2025-07-14 16:16:47,534] Trial 43 finished with value: 0.9696356275303644 and parameters: {'n_estimators': 413, 'learning_rate': 0.005829843347996283, 'max_depth': 5, 'reg_lambda': 0.26300739675602625, 'reg_alpha': 0.21301033857716095, 'colsample_bytree': 0.8024777720389}. Best is trial 29 with value: 0.9700854700854701.\n",
      "[I 2025-07-14 16:16:47,930] Trial 44 finished with value: 0.9696356275303644 and parameters: {'n_estimators': 434, 'learning_rate': 0.009057794612197764, 'max_depth': 4, 'reg_lambda': 0.4043186282118697, 'reg_alpha': 0.09331006147455044, 'colsample_bytree': 0.7402324727852214}. Best is trial 29 with value: 0.9700854700854701.\n",
      "[I 2025-07-14 16:16:48,143] Trial 45 finished with value: 0.9696356275303644 and parameters: {'n_estimators': 356, 'learning_rate': 0.3543371575236477, 'max_depth': 1, 'reg_lambda': 0.1650672408442365, 'reg_alpha': 0.6912920145099465, 'colsample_bytree': 0.5815103078140242}. Best is trial 29 with value: 0.9700854700854701.\n",
      "[I 2025-07-14 16:16:48,410] Trial 46 finished with value: 0.9700854700854701 and parameters: {'n_estimators': 385, 'learning_rate': 0.013819837077926063, 'max_depth': 2, 'reg_lambda': 0.4770883438630114, 'reg_alpha': 0.9981042415491859, 'colsample_bytree': 0.7920489362386813}. Best is trial 29 with value: 0.9700854700854701.\n",
      "[I 2025-07-14 16:16:48,719] Trial 47 finished with value: 0.9700854700854701 and parameters: {'n_estimators': 386, 'learning_rate': 0.022868078783465796, 'max_depth': 3, 'reg_lambda': 0.9631972329560219, 'reg_alpha': 0.8972818084381692, 'colsample_bytree': 0.4304475015809649}. Best is trial 29 with value: 0.9700854700854701.\n",
      "[I 2025-07-14 16:16:48,983] Trial 48 finished with value: 0.9676113360323887 and parameters: {'n_estimators': 304, 'learning_rate': 0.5159793743755217, 'max_depth': 3, 'reg_lambda': 0.09529805348506512, 'reg_alpha': 0.9318532444268134, 'colsample_bytree': 0.7810275289602642}. Best is trial 29 with value: 0.9700854700854701.\n",
      "[I 2025-07-14 16:16:49,258] Trial 49 finished with value: 0.9698605488079173 and parameters: {'n_estimators': 383, 'learning_rate': 0.042730897641002664, 'max_depth': 2, 'reg_lambda': 0.7234787461115454, 'reg_alpha': 0.5589801207374238, 'colsample_bytree': 0.708623803138542}. Best is trial 29 with value: 0.9700854700854701.\n",
      "[I 2025-07-14 16:16:49,548] Trial 50 finished with value: 0.9696356275303644 and parameters: {'n_estimators': 346, 'learning_rate': 0.013703542567524691, 'max_depth': 3, 'reg_lambda': 0.014923698787399698, 'reg_alpha': 0.8121476984616836, 'colsample_bytree': 0.6771265801902038}. Best is trial 29 with value: 0.9700854700854701.\n",
      "[I 2025-07-14 16:16:49,842] Trial 51 finished with value: 0.9700854700854701 and parameters: {'n_estimators': 441, 'learning_rate': 0.023778084947200982, 'max_depth': 2, 'reg_lambda': 0.9982852521375183, 'reg_alpha': 0.43560395687920206, 'colsample_bytree': 0.4295796237489552}. Best is trial 29 with value: 0.9700854700854701.\n",
      "[I 2025-07-14 16:16:50,150] Trial 52 finished with value: 0.9698605488079173 and parameters: {'n_estimators': 411, 'learning_rate': 0.022963748024798666, 'max_depth': 2, 'reg_lambda': 0.45043263050481247, 'reg_alpha': 0.49128092921384103, 'colsample_bytree': 0.4741058419303679}. Best is trial 29 with value: 0.9700854700854701.\n",
      "[I 2025-07-14 16:16:50,510] Trial 53 finished with value: 0.9698605488079173 and parameters: {'n_estimators': 422, 'learning_rate': 0.06278060450783073, 'max_depth': 2, 'reg_lambda': 0.9506881410412502, 'reg_alpha': 0.3798284091807998, 'colsample_bytree': 0.4282462352054924}. Best is trial 29 with value: 0.9700854700854701.\n",
      "[I 2025-07-14 16:16:50,834] Trial 54 finished with value: 0.9698605488079173 and parameters: {'n_estimators': 393, 'learning_rate': 0.03053664941556309, 'max_depth': 3, 'reg_lambda': 0.7476894601026198, 'reg_alpha': 0.9587589464086049, 'colsample_bytree': 0.5005543980563627}. Best is trial 29 with value: 0.9700854700854701.\n",
      "[I 2025-07-14 16:16:51,109] Trial 55 finished with value: 0.9698605488079173 and parameters: {'n_estimators': 368, 'learning_rate': 0.02127638799753281, 'max_depth': 2, 'reg_lambda': 0.3560959631854115, 'reg_alpha': 0.698833859236759, 'colsample_bytree': 0.42491111894821654}. Best is trial 29 with value: 0.9700854700854701.\n",
      "[I 2025-07-14 16:16:51,407] Trial 56 finished with value: 0.9696356275303644 and parameters: {'n_estimators': 440, 'learning_rate': 0.010214623306192348, 'max_depth': 2, 'reg_lambda': 0.25525238296151875, 'reg_alpha': 0.289341640574924, 'colsample_bytree': 0.4670753871019122}. Best is trial 29 with value: 0.9700854700854701.\n",
      "[I 2025-07-14 16:16:51,650] Trial 57 finished with value: 0.9698605488079173 and parameters: {'n_estimators': 288, 'learning_rate': 0.015196206559683985, 'max_depth': 3, 'reg_lambda': 0.5271537018251549, 'reg_alpha': 0.4196564889098381, 'colsample_bytree': 0.4054398100078238}. Best is trial 29 with value: 0.9700854700854701.\n",
      "[I 2025-07-14 16:16:51,886] Trial 58 finished with value: 0.9698605488079173 and parameters: {'n_estimators': 420, 'learning_rate': 0.024756369009852546, 'max_depth': 1, 'reg_lambda': 0.00883897440347477, 'reg_alpha': 0.6358081003880922, 'colsample_bytree': 0.43385840216096044}. Best is trial 29 with value: 0.9700854700854701.\n",
      "[I 2025-07-14 16:16:52,119] Trial 59 finished with value: 0.9698605488079173 and parameters: {'n_estimators': 318, 'learning_rate': 0.05271532312283892, 'max_depth': 2, 'reg_lambda': 0.7183637695926256, 'reg_alpha': 0.34375187610446795, 'colsample_bytree': 0.8584097483083676}. Best is trial 29 with value: 0.9700854700854701.\n",
      "[I 2025-07-14 16:16:52,457] Trial 60 finished with value: 0.9698605488079173 and parameters: {'n_estimators': 439, 'learning_rate': 0.01233239411582427, 'max_depth': 3, 'reg_lambda': 0.9983334223847321, 'reg_alpha': 0.2449932340865347, 'colsample_bytree': 0.4603393684539606}. Best is trial 29 with value: 0.9700854700854701.\n",
      "[I 2025-07-14 16:16:52,704] Trial 61 finished with value: 0.9698605488079173 and parameters: {'n_estimators': 441, 'learning_rate': 0.01705912537145523, 'max_depth': 1, 'reg_lambda': 0.0020913021537626772, 'reg_alpha': 0.18645402168908518, 'colsample_bytree': 0.42027727926087005}. Best is trial 29 with value: 0.9700854700854701.\n",
      "[I 2025-07-14 16:16:52,959] Trial 62 finished with value: 0.9698605488079173 and parameters: {'n_estimators': 449, 'learning_rate': 0.019737021500277823, 'max_depth': 1, 'reg_lambda': 0.7909409389157516, 'reg_alpha': 0.47684761818919796, 'colsample_bytree': 0.5173025201351555}. Best is trial 29 with value: 0.9700854700854701.\n",
      "[I 2025-07-14 16:16:53,241] Trial 63 finished with value: 0.9698605488079173 and parameters: {'n_estimators': 410, 'learning_rate': 0.035393033252675635, 'max_depth': 2, 'reg_lambda': 0.001058797163157045, 'reg_alpha': 0.7252102485363979, 'colsample_bytree': 0.40283311138546424}. Best is trial 29 with value: 0.9700854700854701.\n",
      "[I 2025-07-14 16:16:53,490] Trial 64 finished with value: 0.9696356275303644 and parameters: {'n_estimators': 420, 'learning_rate': 0.010105772890069968, 'max_depth': 1, 'reg_lambda': 0.49078458392217217, 'reg_alpha': 0.2514351012587968, 'colsample_bytree': 0.4896533145086903}. Best is trial 29 with value: 0.9700854700854701.\n",
      "[I 2025-07-14 16:16:53,725] Trial 65 finished with value: 0.9698605488079173 and parameters: {'n_estimators': 387, 'learning_rate': 0.018345984469639382, 'max_depth': 1, 'reg_lambda': 0.3246835933807516, 'reg_alpha': 0.5500532938463581, 'colsample_bytree': 0.9316887207444055}. Best is trial 29 with value: 0.9700854700854701.\n",
      "[I 2025-07-14 16:16:53,985] Trial 66 finished with value: 0.9698605488079173 and parameters: {'n_estimators': 375, 'learning_rate': 0.027719784741512047, 'max_depth': 2, 'reg_lambda': 0.5923362761332389, 'reg_alpha': 0.21002698835455547, 'colsample_bytree': 0.45570638755762805}. Best is trial 29 with value: 0.9700854700854701.\n",
      "[I 2025-07-14 16:16:54,240] Trial 67 finished with value: 0.9698605488079173 and parameters: {'n_estimators': 429, 'learning_rate': 0.013381059876860594, 'max_depth': 1, 'reg_lambda': 0.8168169265379108, 'reg_alpha': 0.1563474524425306, 'colsample_bytree': 0.43129643603723694}. Best is trial 29 with value: 0.9700854700854701.\n",
      "[I 2025-07-14 16:16:54,395] Trial 68 finished with value: 0.9698605488079173 and parameters: {'n_estimators': 175, 'learning_rate': 0.07305757299092477, 'max_depth': 2, 'reg_lambda': 0.9933819979550446, 'reg_alpha': 0.39647950088302636, 'colsample_bytree': 0.5432103627084388}. Best is trial 29 with value: 0.9700854700854701.\n",
      "[I 2025-07-14 16:16:54,627] Trial 69 finished with value: 0.9694107062528116 and parameters: {'n_estimators': 398, 'learning_rate': 0.13214553755950478, 'max_depth': 1, 'reg_lambda': 0.4409914217979041, 'reg_alpha': 0.003445651197476757, 'colsample_bytree': 0.5035060949434426}. Best is trial 29 with value: 0.9700854700854701.\n",
      "[I 2025-07-14 16:16:54,793] Trial 70 finished with value: 0.9696356275303644 and parameters: {'n_estimators': 201, 'learning_rate': 0.04080416606786944, 'max_depth': 2, 'reg_lambda': 0.5615059649466131, 'reg_alpha': 0.8132636098556314, 'colsample_bytree': 0.970496406510035}. Best is trial 29 with value: 0.9700854700854701.\n",
      "[I 2025-07-14 16:16:55,253] Trial 71 finished with value: 0.9696356275303644 and parameters: {'n_estimators': 405, 'learning_rate': 0.006248771726870259, 'max_depth': 4, 'reg_lambda': 0.3940474395442469, 'reg_alpha': 0.11989462427839148, 'colsample_bytree': 0.8323035949134334}. Best is trial 29 with value: 0.9700854700854701.\n",
      "[I 2025-07-14 16:16:55,624] Trial 72 finished with value: 0.9698605488079173 and parameters: {'n_estimators': 450, 'learning_rate': 0.007050671015874163, 'max_depth': 3, 'reg_lambda': 0.6698511630431475, 'reg_alpha': 0.2933443031352587, 'colsample_bytree': 0.901926923258394}. Best is trial 29 with value: 0.9700854700854701.\n",
      "[I 2025-07-14 16:16:56,037] Trial 73 finished with value: 0.9698605488079173 and parameters: {'n_estimators': 436, 'learning_rate': 0.005051284643653444, 'max_depth': 4, 'reg_lambda': 0.17872126500697205, 'reg_alpha': 0.20823577510426705, 'colsample_bytree': 0.77549318579391}. Best is trial 29 with value: 0.9700854700854701.\n",
      "[I 2025-07-14 16:16:56,445] Trial 74 finished with value: 0.9696356275303644 and parameters: {'n_estimators': 416, 'learning_rate': 0.009680551045624137, 'max_depth': 4, 'reg_lambda': 0.2932733022911592, 'reg_alpha': 0.0011516356424978711, 'colsample_bytree': 0.8216542147197021}. Best is trial 29 with value: 0.9700854700854701.\n",
      "[I 2025-07-14 16:16:56,698] Trial 75 finished with value: 0.9696356275303644 and parameters: {'n_estimators': 427, 'learning_rate': 0.011450840013486523, 'max_depth': 1, 'reg_lambda': 0.5134093419428476, 'reg_alpha': 0.5685300317091015, 'colsample_bytree': 0.44614986667295714}. Best is trial 29 with value: 0.9700854700854701.\n",
      "[I 2025-07-14 16:16:57,182] Trial 76 finished with value: 0.9698605488079173 and parameters: {'n_estimators': 406, 'learning_rate': 0.016550158671520127, 'max_depth': 5, 'reg_lambda': 0.8221343453210941, 'reg_alpha': 0.0969373293567221, 'colsample_bytree': 0.7214771953215167}. Best is trial 29 with value: 0.9700854700854701.\n",
      "[I 2025-07-14 16:16:57,547] Trial 77 finished with value: 0.8533513270355375 and parameters: {'n_estimators': 366, 'learning_rate': 1.502494599281322, 'max_depth': 2, 'reg_lambda': 0.23787501168536787, 'reg_alpha': 0.03806291658284716, 'colsample_bytree': 0.40024913631259185}. Best is trial 29 with value: 0.9700854700854701.\n",
      "[I 2025-07-14 16:16:57,699] Trial 78 finished with value: 0.9700854700854701 and parameters: {'n_estimators': 147, 'learning_rate': 0.02396801288698265, 'max_depth': 3, 'reg_lambda': 0.35475627665819326, 'reg_alpha': 0.9884908777057695, 'colsample_bytree': 0.6073652353929677}. Best is trial 29 with value: 0.9700854700854701.\n",
      "[I 2025-07-14 16:16:57,835] Trial 79 finished with value: 0.9700854700854701 and parameters: {'n_estimators': 124, 'learning_rate': 0.024787694984240393, 'max_depth': 3, 'reg_lambda': 0.6276927597047219, 'reg_alpha': 0.9886195396891956, 'colsample_bytree': 0.6104444767905914}. Best is trial 29 with value: 0.9700854700854701.\n",
      "[I 2025-07-14 16:16:57,964] Trial 80 finished with value: 0.9696356275303644 and parameters: {'n_estimators': 113, 'learning_rate': 0.02403698054788673, 'max_depth': 3, 'reg_lambda': 0.3363317295816383, 'reg_alpha': 0.9641018238705522, 'colsample_bytree': 0.6064801252056863}. Best is trial 29 with value: 0.9700854700854701.\n",
      "[I 2025-07-14 16:16:58,105] Trial 81 finished with value: 0.9698605488079173 and parameters: {'n_estimators': 124, 'learning_rate': 0.03369699456004228, 'max_depth': 3, 'reg_lambda': 0.631887961542013, 'reg_alpha': 0.7800351795495416, 'colsample_bytree': 0.6535553254930345}. Best is trial 29 with value: 0.9700854700854701.\n",
      "[I 2025-07-14 16:16:58,272] Trial 82 finished with value: 0.9698605488079173 and parameters: {'n_estimators': 157, 'learning_rate': 0.021149112434705023, 'max_depth': 3, 'reg_lambda': 0.41460067144120816, 'reg_alpha': 0.6450321933642923, 'colsample_bytree': 0.5741190268620552}. Best is trial 29 with value: 0.9700854700854701.\n",
      "[I 2025-07-14 16:16:58,443] Trial 83 finished with value: 0.9700854700854701 and parameters: {'n_estimators': 163, 'learning_rate': 0.02768516527027852, 'max_depth': 3, 'reg_lambda': 0.8180480094004959, 'reg_alpha': 0.9923206074017141, 'colsample_bytree': 0.5985437681070096}. Best is trial 29 with value: 0.9700854700854701.\n",
      "[I 2025-07-14 16:16:58,604] Trial 84 finished with value: 0.9700854700854701 and parameters: {'n_estimators': 146, 'learning_rate': 0.02804029406301558, 'max_depth': 3, 'reg_lambda': 0.5603528335409838, 'reg_alpha': 0.9600676852013519, 'colsample_bytree': 0.6116434453810423}. Best is trial 29 with value: 0.9700854700854701.\n",
      "[I 2025-07-14 16:16:58,764] Trial 85 finished with value: 0.9698605488079173 and parameters: {'n_estimators': 150, 'learning_rate': 0.047038225498784295, 'max_depth': 3, 'reg_lambda': 0.7813741833174089, 'reg_alpha': 0.9646033254272166, 'colsample_bytree': 0.6022193798109349}. Best is trial 29 with value: 0.9700854700854701.\n",
      "[I 2025-07-14 16:16:58,922] Trial 86 finished with value: 0.9698605488079173 and parameters: {'n_estimators': 141, 'learning_rate': 0.026875084747268557, 'max_depth': 3, 'reg_lambda': 0.542551157969313, 'reg_alpha': 0.7994723563556804, 'colsample_bytree': 0.6278966508225199}. Best is trial 29 with value: 0.9700854700854701.\n",
      "[I 2025-07-14 16:16:59,051] Trial 87 finished with value: 0.9696356275303644 and parameters: {'n_estimators': 103, 'learning_rate': 0.02973680291070459, 'max_depth': 3, 'reg_lambda': 0.8430288639427211, 'reg_alpha': 0.633190514276905, 'colsample_bytree': 0.6674879705966594}. Best is trial 29 with value: 0.9700854700854701.\n",
      "[I 2025-07-14 16:16:59,221] Trial 88 finished with value: 0.9698605488079173 and parameters: {'n_estimators': 135, 'learning_rate': 0.014174108809223322, 'max_depth': 4, 'reg_lambda': 0.6086296667040295, 'reg_alpha': 0.48533969652927805, 'colsample_bytree': 0.6309039795091781}. Best is trial 29 with value: 0.9700854700854701.\n",
      "[I 2025-07-14 16:16:59,417] Trial 89 finished with value: 0.9698605488079173 and parameters: {'n_estimators': 193, 'learning_rate': 0.03554568959198693, 'max_depth': 3, 'reg_lambda': 0.04370443305504488, 'reg_alpha': 0.8664955365207316, 'colsample_bytree': 0.5712277502837313}. Best is trial 29 with value: 0.9700854700854701.\n",
      "[I 2025-07-14 16:16:59,585] Trial 90 finished with value: 0.9698605488079173 and parameters: {'n_estimators': 161, 'learning_rate': 0.022998604426818645, 'max_depth': 3, 'reg_lambda': 0.6857962151656316, 'reg_alpha': 0.6294360273557864, 'colsample_bytree': 0.5883168846809955}. Best is trial 29 with value: 0.9700854700854701.\n",
      "[I 2025-07-14 16:16:59,783] Trial 91 finished with value: 0.9700854700854701 and parameters: {'n_estimators': 226, 'learning_rate': 0.01840609282918081, 'max_depth': 2, 'reg_lambda': 0.44616443358279756, 'reg_alpha': 0.990638762804998, 'colsample_bytree': 0.5610424729068549}. Best is trial 29 with value: 0.9700854700854701.\n",
      "[I 2025-07-14 16:16:59,966] Trial 92 finished with value: 0.9700854700854701 and parameters: {'n_estimators': 221, 'learning_rate': 0.01900711045238849, 'max_depth': 2, 'reg_lambda': 0.36806475207290357, 'reg_alpha': 0.9846426696497084, 'colsample_bytree': 0.563375690737545}. Best is trial 29 with value: 0.9700854700854701.\n",
      "[I 2025-07-14 16:17:00,168] Trial 93 finished with value: 0.9700854700854701 and parameters: {'n_estimators': 224, 'learning_rate': 0.017810147167919486, 'max_depth': 2, 'reg_lambda': 0.35967787246405736, 'reg_alpha': 0.7757625247375284, 'colsample_bytree': 0.5527849720251218}. Best is trial 29 with value: 0.9700854700854701.\n",
      "[I 2025-07-14 16:17:00,433] Trial 94 finished with value: 0.9700854700854701 and parameters: {'n_estimators': 247, 'learning_rate': 0.020689064998992993, 'max_depth': 2, 'reg_lambda': 0.45780437192884266, 'reg_alpha': 0.9797633888148892, 'colsample_bytree': 0.6098786444561124}. Best is trial 29 with value: 0.9700854700854701.\n",
      "[I 2025-07-14 16:17:00,591] Trial 95 finished with value: 0.9698605488079173 and parameters: {'n_estimators': 173, 'learning_rate': 0.025691974165786065, 'max_depth': 2, 'reg_lambda': 0.3073574870779441, 'reg_alpha': 0.7371737089740604, 'colsample_bytree': 0.5638445160282638}. Best is trial 29 with value: 0.9700854700854701.\n",
      "[I 2025-07-14 16:17:00,831] Trial 96 finished with value: 0.9698605488079173 and parameters: {'n_estimators': 267, 'learning_rate': 0.012988575921718546, 'max_depth': 3, 'reg_lambda': 0.2221660188662939, 'reg_alpha': 0.9859945940776975, 'colsample_bytree': 0.638359273903057}. Best is trial 29 with value: 0.9700854700854701.\n",
      "[I 2025-07-14 16:17:01,016] Trial 97 finished with value: 0.9698605488079173 and parameters: {'n_estimators': 216, 'learning_rate': 0.030011503944187532, 'max_depth': 2, 'reg_lambda': 0.5208735267984931, 'reg_alpha': 0.579213676831554, 'colsample_bytree': 0.6607104115749625}. Best is trial 29 with value: 0.9700854700854701.\n",
      "[I 2025-07-14 16:17:01,158] Trial 98 finished with value: 0.9696356275303644 and parameters: {'n_estimators': 113, 'learning_rate': 0.01795861882232648, 'max_depth': 3, 'reg_lambda': 0.8982459054223102, 'reg_alpha': 0.46463871572972737, 'colsample_bytree': 0.5946062135909896}. Best is trial 29 with value: 0.9700854700854701.\n",
      "[I 2025-07-14 16:17:01,302] Trial 99 finished with value: 0.9698605488079173 and parameters: {'n_estimators': 145, 'learning_rate': 0.015412139328748034, 'max_depth': 2, 'reg_lambda': 0.3900528452106064, 'reg_alpha': 0.808822650031869, 'colsample_bytree': 0.6152736031313991}. Best is trial 29 with value: 0.9700854700854701.\n",
      "[I 2025-07-14 16:17:01,440] Trial 100 finished with value: 0.9698605488079173 and parameters: {'n_estimators': 127, 'learning_rate': 0.0390170484290452, 'max_depth': 2, 'reg_lambda': 0.7127966476848426, 'reg_alpha': 0.6924548059528274, 'colsample_bytree': 0.6923518001293453}. Best is trial 29 with value: 0.9700854700854701.\n",
      "[I 2025-07-14 16:17:01,628] Trial 101 finished with value: 0.9700854700854701 and parameters: {'n_estimators': 229, 'learning_rate': 0.018517006854195345, 'max_depth': 2, 'reg_lambda': 0.36379442586866434, 'reg_alpha': 0.8470820370941383, 'colsample_bytree': 0.5477104279070041}. Best is trial 29 with value: 0.9700854700854701.\n",
      "[I 2025-07-14 16:17:01,795] Trial 102 finished with value: 0.9700854700854701 and parameters: {'n_estimators': 187, 'learning_rate': 0.022170012421180982, 'max_depth': 2, 'reg_lambda': 0.45384810873736514, 'reg_alpha': 0.7568409734444689, 'colsample_bytree': 0.5299956409299138}. Best is trial 29 with value: 0.9700854700854701.\n",
      "[I 2025-07-14 16:17:01,973] Trial 103 finished with value: 0.9700854700854701 and parameters: {'n_estimators': 209, 'learning_rate': 0.015962115824604578, 'max_depth': 2, 'reg_lambda': 0.26279598549392996, 'reg_alpha': 0.533139182260138, 'colsample_bytree': 0.5557585727511323}. Best is trial 29 with value: 0.9700854700854701.\n",
      "[I 2025-07-14 16:17:02,190] Trial 104 finished with value: 0.9698605488079173 and parameters: {'n_estimators': 225, 'learning_rate': 0.03193845113980372, 'max_depth': 3, 'reg_lambda': 0.5943192053186934, 'reg_alpha': 0.3609063204363584, 'colsample_bytree': 0.5842823053453533}. Best is trial 29 with value: 0.9700854700854701.\n",
      "[I 2025-07-14 16:17:02,390] Trial 105 finished with value: 0.9696356275303644 and parameters: {'n_estimators': 252, 'learning_rate': 0.008360181126291789, 'max_depth': 2, 'reg_lambda': 0.35138120722352123, 'reg_alpha': 0.9935756528593906, 'colsample_bytree': 0.6208244603061387}. Best is trial 29 with value: 0.9700854700854701.\n",
      "[I 2025-07-14 16:17:02,609] Trial 106 finished with value: 0.9696356275303644 and parameters: {'n_estimators': 239, 'learning_rate': 0.01137990207495264, 'max_depth': 3, 'reg_lambda': 0.1625424011330184, 'reg_alpha': 0.8580803382664532, 'colsample_bytree': 0.6480862855555382}. Best is trial 29 with value: 0.9700854700854701.\n",
      "[I 2025-07-14 16:17:02,794] Trial 107 finished with value: 0.9700854700854701 and parameters: {'n_estimators': 220, 'learning_rate': 0.026129769884535515, 'max_depth': 2, 'reg_lambda': 0.8361417924718656, 'reg_alpha': 0.43343449306413917, 'colsample_bytree': 0.5168406350274533}. Best is trial 29 with value: 0.9700854700854701.\n",
      "[I 2025-07-14 16:17:02,970] Trial 108 finished with value: 0.9698605488079173 and parameters: {'n_estimators': 169, 'learning_rate': 0.019891068161164434, 'max_depth': 3, 'reg_lambda': 0.7186462057364034, 'reg_alpha': 0.7134459711218948, 'colsample_bytree': 0.5417265620249896}. Best is trial 29 with value: 0.9700854700854701.\n",
      "[I 2025-07-14 16:17:03,122] Trial 109 finished with value: 0.9700854700854701 and parameters: {'n_estimators': 158, 'learning_rate': 0.04581788798702475, 'max_depth': 2, 'reg_lambda': 0.2849058657977271, 'reg_alpha': 0.591180270133491, 'colsample_bytree': 0.5960164938022605}. Best is trial 29 with value: 0.9700854700854701.\n",
      "[I 2025-07-14 16:17:03,359] Trial 110 finished with value: 0.9696356275303644 and parameters: {'n_estimators': 323, 'learning_rate': 0.05407088299444414, 'max_depth': 2, 'reg_lambda': 0.47313463691377694, 'reg_alpha': 0.5076173297412484, 'colsample_bytree': 0.5685360402382748}. Best is trial 29 with value: 0.9700854700854701.\n",
      "[I 2025-07-14 16:17:03,556] Trial 111 finished with value: 0.9700854700854701 and parameters: {'n_estimators': 241, 'learning_rate': 0.021129435291785993, 'max_depth': 2, 'reg_lambda': 0.44603095809106996, 'reg_alpha': 0.9993303093826311, 'colsample_bytree': 0.6093934368288403}. Best is trial 29 with value: 0.9700854700854701.\n",
      "[I 2025-07-14 16:17:03,764] Trial 112 finished with value: 0.9700854700854701 and parameters: {'n_estimators': 260, 'learning_rate': 0.01396520484228189, 'max_depth': 2, 'reg_lambda': 0.19988242714933505, 'reg_alpha': 0.8849425972122188, 'colsample_bytree': 0.6014353680765666}. Best is trial 29 with value: 0.9700854700854701.\n",
      "[I 2025-07-14 16:17:03,940] Trial 113 finished with value: 0.9700854700854701 and parameters: {'n_estimators': 205, 'learning_rate': 0.018208770159671043, 'max_depth': 2, 'reg_lambda': 0.5509550547570793, 'reg_alpha': 0.73438760953419, 'colsample_bytree': 0.6353587926994125}. Best is trial 29 with value: 0.9700854700854701.\n",
      "[I 2025-07-14 16:17:04,176] Trial 114 finished with value: 0.9698605488079173 and parameters: {'n_estimators': 249, 'learning_rate': 0.023560786144379415, 'max_depth': 3, 'reg_lambda': 0.004834282774438086, 'reg_alpha': 0.015420253202086322, 'colsample_bytree': 0.6746949057189382}. Best is trial 29 with value: 0.9700854700854701.\n",
      "[I 2025-07-14 16:17:04,390] Trial 115 finished with value: 0.9687359424201529 and parameters: {'n_estimators': 279, 'learning_rate': 0.889179296969826, 'max_depth': 2, 'reg_lambda': 0.9217656355566658, 'reg_alpha': 0.6503535750337739, 'colsample_bytree': 0.6117592368054027}. Best is trial 29 with value: 0.9700854700854701.\n",
      "[I 2025-07-14 16:17:04,616] Trial 116 finished with value: 0.7415654520917678 and parameters: {'n_estimators': 138, 'learning_rate': 2.2853403952711338, 'max_depth': 2, 'reg_lambda': 0.4033343492513703, 'reg_alpha': 0.8426821656043874, 'colsample_bytree': 0.587159039322344}. Best is trial 29 with value: 0.9700854700854701.\n",
      "[I 2025-07-14 16:17:04,804] Trial 117 finished with value: 0.9696356275303644 and parameters: {'n_estimators': 197, 'learning_rate': 0.016349781148230734, 'max_depth': 3, 'reg_lambda': 0.6463774880419096, 'reg_alpha': 0.8673183498250281, 'colsample_bytree': 0.5600289461551597}. Best is trial 29 with value: 0.9700854700854701.\n",
      "[I 2025-07-14 16:17:04,966] Trial 118 finished with value: 0.9696356275303644 and parameters: {'n_estimators': 114, 'learning_rate': 0.0125136801730799, 'max_depth': 7, 'reg_lambda': 0.02035465897960183, 'reg_alpha': 0.9897799983118044, 'colsample_bytree': 0.6190440124442854}. Best is trial 29 with value: 0.9700854700854701.\n",
      "[I 2025-07-14 16:17:06,704] Trial 119 finished with value: 0.9700854700854701 and parameters: {'n_estimators': 218, 'learning_rate': 0.027588638451118072, 'max_depth': 2, 'reg_lambda': 0.5129954165715974, 'reg_alpha': 0.7412451072765014, 'colsample_bytree': 0.5818422350179291}. Best is trial 29 with value: 0.9700854700854701.\n",
      "[I 2025-07-14 16:17:06,924] Trial 120 finished with value: 0.9696356275303644 and parameters: {'n_estimators': 236, 'learning_rate': 0.020355843881061472, 'max_depth': 3, 'reg_lambda': 0.1026326549015215, 'reg_alpha': 0.6060907183319728, 'colsample_bytree': 0.6386797616896611}. Best is trial 29 with value: 0.9700854700854701.\n",
      "[I 2025-07-14 16:17:07,116] Trial 121 finished with value: 0.9700854700854701 and parameters: {'n_estimators': 231, 'learning_rate': 0.019845967563379245, 'max_depth': 2, 'reg_lambda': 0.3493714298764578, 'reg_alpha': 0.8255437993685241, 'colsample_bytree': 0.5505314851326982}. Best is trial 29 with value: 0.9700854700854701.\n",
      "[I 2025-07-14 16:17:07,285] Trial 122 finished with value: 0.9700854700854701 and parameters: {'n_estimators': 184, 'learning_rate': 0.014481323776433396, 'max_depth': 2, 'reg_lambda': 0.37360493930882466, 'reg_alpha': 0.866676764589713, 'colsample_bytree': 0.5748682878563021}. Best is trial 29 with value: 0.9700854700854701.\n",
      "[I 2025-07-14 16:17:07,423] Trial 123 finished with value: 0.9698605488079173 and parameters: {'n_estimators': 132, 'learning_rate': 0.01792897896880714, 'max_depth': 2, 'reg_lambda': 0.32331429953546864, 'reg_alpha': 0.6934139248376725, 'colsample_bytree': 0.5409050913004205}. Best is trial 29 with value: 0.9700854700854701.\n",
      "[I 2025-07-14 16:17:07,623] Trial 124 finished with value: 0.9700854700854701 and parameters: {'n_estimators': 247, 'learning_rate': 0.023963044187266698, 'max_depth': 2, 'reg_lambda': 0.42682854961603245, 'reg_alpha': 0.5398794406391165, 'colsample_bytree': 0.5103978940567582}. Best is trial 29 with value: 0.9700854700854701.\n",
      "[I 2025-07-14 16:17:07,767] Trial 125 finished with value: 0.9698605488079173 and parameters: {'n_estimators': 148, 'learning_rate': 0.2233133137302486, 'max_depth': 2, 'reg_lambda': 0.7566978910751542, 'reg_alpha': 0.7768044020187733, 'colsample_bytree': 0.478398238205331}. Best is trial 29 with value: 0.9700854700854701.\n",
      "[I 2025-07-14 16:17:07,980] Trial 126 finished with value: 0.9698605488079173 and parameters: {'n_estimators': 226, 'learning_rate': 0.010496857686300603, 'max_depth': 3, 'reg_lambda': 0.6443122379325854, 'reg_alpha': 0.6411564617670824, 'colsample_bytree': 0.7236185230383324}. Best is trial 29 with value: 0.9700854700854701.\n",
      "[I 2025-07-14 16:17:08,189] Trial 127 finished with value: 0.9700854700854701 and parameters: {'n_estimators': 253, 'learning_rate': 0.034119564571392744, 'max_depth': 2, 'reg_lambda': 0.9913630002026719, 'reg_alpha': 0.4389011181899047, 'colsample_bytree': 0.5381451167004266}. Best is trial 29 with value: 0.9700854700854701.\n",
      "[I 2025-07-14 16:17:08,371] Trial 128 finished with value: 0.9700854700854701 and parameters: {'n_estimators': 213, 'learning_rate': 0.029555774389704446, 'max_depth': 2, 'reg_lambda': 0.49230345271668113, 'reg_alpha': 0.9986230919846683, 'colsample_bytree': 0.6221626197423705}. Best is trial 29 with value: 0.9700854700854701.\n",
      "[I 2025-07-14 16:17:08,592] Trial 129 finished with value: 0.9698605488079173 and parameters: {'n_estimators': 271, 'learning_rate': 0.017011539635947995, 'max_depth': 2, 'reg_lambda': 0.5748787342375775, 'reg_alpha': 0.8540538371778619, 'colsample_bytree': 0.5229935047252521}. Best is trial 29 with value: 0.9700854700854701.\n",
      "[I 2025-07-14 16:17:08,892] Trial 130 finished with value: 0.9698605488079173 and parameters: {'n_estimators': 294, 'learning_rate': 0.02164207507289775, 'max_depth': 4, 'reg_lambda': 0.2966361806348782, 'reg_alpha': 0.7224681704736685, 'colsample_bytree': 0.5630906304513951}. Best is trial 29 with value: 0.9700854700854701.\n",
      "[I 2025-07-14 16:17:09,059] Trial 131 finished with value: 0.9698605488079173 and parameters: {'n_estimators': 185, 'learning_rate': 0.02271838072069667, 'max_depth': 2, 'reg_lambda': 0.4611720271662874, 'reg_alpha': 0.8321243710276244, 'colsample_bytree': 0.5349760912012594}. Best is trial 29 with value: 0.9700854700854701.\n",
      "[I 2025-07-14 16:17:09,196] Trial 132 finished with value: 0.9698605488079173 and parameters: {'n_estimators': 119, 'learning_rate': 0.01912185449288521, 'max_depth': 2, 'reg_lambda': 0.3936362769896036, 'reg_alpha': 0.7481942810964093, 'colsample_bytree': 0.598452659541481}. Best is trial 29 with value: 0.9700854700854701.\n",
      "[I 2025-07-14 16:17:09,388] Trial 133 finished with value: 0.9696356275303644 and parameters: {'n_estimators': 190, 'learning_rate': 0.015186604935337609, 'max_depth': 3, 'reg_lambda': 0.2572652581519269, 'reg_alpha': 0.9842809158545504, 'colsample_bytree': 0.5279174809116105}. Best is trial 29 with value: 0.9700854700854701.\n",
      "[I 2025-07-14 16:17:09,545] Trial 134 finished with value: 0.9698605488079173 and parameters: {'n_estimators': 164, 'learning_rate': 0.025721421188393292, 'max_depth': 2, 'reg_lambda': 0.4510350579697513, 'reg_alpha': 0.5637487847559511, 'colsample_bytree': 0.5543344217825968}. Best is trial 29 with value: 0.9700854700854701.\n",
      "[I 2025-07-14 16:17:09,697] Trial 135 finished with value: 0.9700854700854701 and parameters: {'n_estimators': 153, 'learning_rate': 0.038186872459111586, 'max_depth': 2, 'reg_lambda': 0.7618583189640857, 'reg_alpha': 0.6482619023341775, 'colsample_bytree': 0.5782324027110393}. Best is trial 29 with value: 0.9700854700854701.\n",
      "[I 2025-07-14 16:17:09,879] Trial 136 finished with value: 0.9696356275303644 and parameters: {'n_estimators': 176, 'learning_rate': 0.012865913861632746, 'max_depth': 3, 'reg_lambda': 0.5843243767813798, 'reg_alpha': 0.7626268628190085, 'colsample_bytree': 0.6588333620555094}. Best is trial 29 with value: 0.9700854700854701.\n",
      "[I 2025-07-14 16:17:10,160] Trial 137 finished with value: 0.9700854700854701 and parameters: {'n_estimators': 342, 'learning_rate': 0.02177353177135632, 'max_depth': 2, 'reg_lambda': 0.8524523964580952, 'reg_alpha': 0.008878058165360636, 'colsample_bytree': 0.5951709557046445}. Best is trial 29 with value: 0.9700854700854701.\n",
      "[I 2025-07-14 16:17:10,401] Trial 138 finished with value: 0.9700854700854701 and parameters: {'n_estimators': 204, 'learning_rate': 0.030699731005832558, 'max_depth': 2, 'reg_lambda': 0.35989348296767193, 'reg_alpha': 0.5017095508631123, 'colsample_bytree': 0.569642471190504}. Best is trial 29 with value: 0.9700854700854701.\n",
      "[I 2025-07-14 16:17:10,621] Trial 139 finished with value: 0.9698605488079173 and parameters: {'n_estimators': 228, 'learning_rate': 0.018149577299672627, 'max_depth': 3, 'reg_lambda': 0.6760325740231771, 'reg_alpha': 0.894608824325259, 'colsample_bytree': 0.4938690709491925}. Best is trial 29 with value: 0.9700854700854701.\n",
      "[I 2025-07-14 16:17:10,889] Trial 140 finished with value: 0.9698605488079173 and parameters: {'n_estimators': 242, 'learning_rate': 0.025064886190653765, 'max_depth': 4, 'reg_lambda': 0.23077634329468946, 'reg_alpha': 0.6229655701536645, 'colsample_bytree': 0.6063864428050489}. Best is trial 29 with value: 0.9700854700854701.\n",
      "[I 2025-07-14 16:17:11,081] Trial 141 finished with value: 0.9700854700854701 and parameters: {'n_estimators': 213, 'learning_rate': 0.01615788906280281, 'max_depth': 2, 'reg_lambda': 0.29559454153065773, 'reg_alpha': 0.5454322114987534, 'colsample_bytree': 0.5494803081183013}. Best is trial 29 with value: 0.9700854700854701.\n",
      "[I 2025-07-14 16:17:11,271] Trial 142 finished with value: 0.9700854700854701 and parameters: {'n_estimators': 209, 'learning_rate': 0.016162426929455884, 'max_depth': 2, 'reg_lambda': 0.48837399774832013, 'reg_alpha': 0.7783880684480745, 'colsample_bytree': 0.557716447392475}. Best is trial 29 with value: 0.9700854700854701.\n",
      "[I 2025-07-14 16:17:11,449] Trial 143 finished with value: 0.9700854700854701 and parameters: {'n_estimators': 200, 'learning_rate': 0.01435185801666713, 'max_depth': 2, 'reg_lambda': 0.409892916410951, 'reg_alpha': 0.37561892374948297, 'colsample_bytree': 0.5875694066715761}. Best is trial 29 with value: 0.9700854700854701.\n",
      "[I 2025-07-14 16:17:11,640] Trial 144 finished with value: 0.9700854700854701 and parameters: {'n_estimators': 225, 'learning_rate': 0.019806163221148036, 'max_depth': 2, 'reg_lambda': 0.2547922001905484, 'reg_alpha': 0.9908251524080309, 'colsample_bytree': 0.5321207509836137}. Best is trial 29 with value: 0.9700854700854701.\n",
      "[I 2025-07-14 16:17:11,826] Trial 145 finished with value: 0.9700854700854701 and parameters: {'n_estimators': 222, 'learning_rate': 0.011979530210890507, 'max_depth': 2, 'reg_lambda': 0.5463234158079431, 'reg_alpha': 0.8635391242350814, 'colsample_bytree': 0.6162968181642884}. Best is trial 29 with value: 0.9700854700854701.\n",
      "[I 2025-07-14 16:17:12,036] Trial 146 finished with value: 0.9698605488079173 and parameters: {'n_estimators': 209, 'learning_rate': 0.028204653723161763, 'max_depth': 3, 'reg_lambda': 0.35848386120028586, 'reg_alpha': 0.47306165533826217, 'colsample_bytree': 0.6466205098993578}. Best is trial 29 with value: 0.9700854700854701.\n",
      "[I 2025-07-14 16:17:12,243] Trial 147 finished with value: 0.9700854700854701 and parameters: {'n_estimators': 234, 'learning_rate': 0.02247039038469095, 'max_depth': 2, 'reg_lambda': 0.3279492915807103, 'reg_alpha': 0.6695421554164184, 'colsample_bytree': 0.553433093247703}. Best is trial 29 with value: 0.9700854700854701.\n",
      "[I 2025-07-14 16:17:12,393] Trial 148 finished with value: 0.9691857849752586 and parameters: {'n_estimators': 142, 'learning_rate': 0.009012298918833608, 'max_depth': 2, 'reg_lambda': 0.6610452061456992, 'reg_alpha': 0.7365663175629427, 'colsample_bytree': 0.5771369553682804}. Best is trial 29 with value: 0.9700854700854701.\n",
      "[I 2025-07-14 16:17:12,549] Trial 149 finished with value: 0.9696356275303644 and parameters: {'n_estimators': 131, 'learning_rate': 0.017528700803058593, 'max_depth': 3, 'reg_lambda': 0.4464392494135658, 'reg_alpha': 0.559218922497312, 'colsample_bytree': 0.6266416782397636}. Best is trial 29 with value: 0.9700854700854701.\n",
      "[I 2025-07-14 16:17:12,717] Trial 150 finished with value: 0.9698605488079173 and parameters: {'n_estimators': 195, 'learning_rate': 0.02613859344712246, 'max_depth': 2, 'reg_lambda': 0.549126827272167, 'reg_alpha': 0.0017222473234743867, 'colsample_bytree': 0.4183906438806319}. Best is trial 29 with value: 0.9700854700854701.\n",
      "[I 2025-07-14 16:17:12,905] Trial 151 finished with value: 0.9700854700854701 and parameters: {'n_estimators': 232, 'learning_rate': 0.023693912546068594, 'max_depth': 2, 'reg_lambda': 0.808266874439733, 'reg_alpha': 0.8866467040559132, 'colsample_bytree': 0.5041812830058201}. Best is trial 29 with value: 0.9700854700854701.\n",
      "[I 2025-07-14 16:17:13,089] Trial 152 finished with value: 0.9700854700854701 and parameters: {'n_estimators': 220, 'learning_rate': 0.03350714855398751, 'max_depth': 2, 'reg_lambda': 0.8638833899502072, 'reg_alpha': 0.4277245312209343, 'colsample_bytree': 0.515070685284214}. Best is trial 29 with value: 0.9700854700854701.\n",
      "[I 2025-07-14 16:17:13,273] Trial 153 finished with value: 0.9698605488079173 and parameters: {'n_estimators': 216, 'learning_rate': 0.019112102791831273, 'max_depth': 2, 'reg_lambda': 0.9658626750876773, 'reg_alpha': 0.34534216640360715, 'colsample_bytree': 0.46488230163447425}. Best is trial 29 with value: 0.9700854700854701.\n",
      "[I 2025-07-14 16:17:13,435] Trial 154 finished with value: 0.9700854700854701 and parameters: {'n_estimators': 177, 'learning_rate': 0.027376670098117322, 'max_depth': 2, 'reg_lambda': 0.7350511302912293, 'reg_alpha': 0.4256479177563512, 'colsample_bytree': 0.5215477456291028}. Best is trial 29 with value: 0.9700854700854701.\n",
      "[I 2025-07-14 16:17:13,598] Trial 155 finished with value: 0.9698605488079173 and parameters: {'n_estimators': 166, 'learning_rate': 0.015183915044042574, 'max_depth': 2, 'reg_lambda': 0.0578417154227038, 'reg_alpha': 0.6922471807356897, 'colsample_bytree': 0.5673951968157955}. Best is trial 29 with value: 0.9700854700854701.\n",
      "[I 2025-07-14 16:17:13,880] Trial 156 finished with value: 0.9700854700854701 and parameters: {'n_estimators': 381, 'learning_rate': 0.021689900770625995, 'max_depth': 2, 'reg_lambda': 0.627579149362409, 'reg_alpha': 0.9011542797660506, 'colsample_bytree': 0.5476326312449444}. Best is trial 29 with value: 0.9700854700854701.\n",
      "[I 2025-07-14 16:17:14,181] Trial 157 finished with value: 0.9698605488079173 and parameters: {'n_estimators': 361, 'learning_rate': 0.013164661956941324, 'max_depth': 3, 'reg_lambda': 0.4948139899541809, 'reg_alpha': 0.782594613589172, 'colsample_bytree': 0.43685723652405334}. Best is trial 29 with value: 0.9700854700854701.\n",
      "[I 2025-07-14 16:17:14,363] Trial 158 finished with value: 0.9698605488079173 and parameters: {'n_estimators': 220, 'learning_rate': 0.025264287789284356, 'max_depth': 2, 'reg_lambda': 0.8741997999107325, 'reg_alpha': 0.9983083200556095, 'colsample_bytree': 0.609519204566518}. Best is trial 29 with value: 0.9700854700854701.\n",
      "[I 2025-07-14 16:17:14,598] Trial 159 finished with value: 0.9700854700854701 and parameters: {'n_estimators': 256, 'learning_rate': 0.019932702133534277, 'max_depth': 3, 'reg_lambda': 0.43267680387993834, 'reg_alpha': 0.601037657013726, 'colsample_bytree': 0.5943608293027022}. Best is trial 29 with value: 0.9700854700854701.\n",
      "[I 2025-07-14 16:17:14,765] Trial 160 finished with value: 0.9700854700854701 and parameters: {'n_estimators': 190, 'learning_rate': 0.03167303433367679, 'max_depth': 2, 'reg_lambda': 0.7384270480297441, 'reg_alpha': 0.3023995178730078, 'colsample_bytree': 0.4835197147344792}. Best is trial 29 with value: 0.9700854700854701.\n",
      "[I 2025-07-14 16:17:14,912] Trial 161 finished with value: 0.9700854700854701 and parameters: {'n_estimators': 151, 'learning_rate': 0.043680751397549886, 'max_depth': 2, 'reg_lambda': 0.27167802718283085, 'reg_alpha': 0.6080442498886333, 'colsample_bytree': 0.5961873632841077}. Best is trial 29 with value: 0.9700854700854701.\n",
      "[I 2025-07-14 16:17:15,063] Trial 162 finished with value: 0.9698605488079173 and parameters: {'n_estimators': 159, 'learning_rate': 0.0914053103151353, 'max_depth': 2, 'reg_lambda': 0.3159543048911196, 'reg_alpha': 0.4958846038039891, 'colsample_bytree': 0.5846076540432861}. Best is trial 29 with value: 0.9700854700854701.\n",
      "[I 2025-07-14 16:17:15,263] Trial 163 finished with value: 0.9700854700854701 and parameters: {'n_estimators': 242, 'learning_rate': 0.017056538553987727, 'max_depth': 2, 'reg_lambda': 0.3820617532872465, 'reg_alpha': 0.802006669833269, 'colsample_bytree': 0.5595520107509687}. Best is trial 29 with value: 0.9700854700854701.\n",
      "[I 2025-07-14 16:17:15,413] Trial 164 finished with value: 0.9700854700854701 and parameters: {'n_estimators': 155, 'learning_rate': 0.03676850954462079, 'max_depth': 2, 'reg_lambda': 0.2855191056530272, 'reg_alpha': 0.6902102098796864, 'colsample_bytree': 0.6344868954382461}. Best is trial 29 with value: 0.9700854700854701.\n",
      "[I 2025-07-14 16:17:15,592] Trial 165 finished with value: 0.9698605488079173 and parameters: {'n_estimators': 207, 'learning_rate': 0.02211362680876261, 'max_depth': 2, 'reg_lambda': 0.585495840494872, 'reg_alpha': 0.8719781026324078, 'colsample_bytree': 0.5361805889643247}. Best is trial 29 with value: 0.9700854700854701.\n",
      "[I 2025-07-14 16:17:15,779] Trial 166 finished with value: 0.9700854700854701 and parameters: {'n_estimators': 231, 'learning_rate': 0.028772861514630883, 'max_depth': 2, 'reg_lambda': 0.21743917493516, 'reg_alpha': 0.586850029235118, 'colsample_bytree': 0.6042101540896918}. Best is trial 29 with value: 0.9700854700854701.\n",
      "[I 2025-07-14 16:17:15,958] Trial 167 finished with value: 0.9700854700854701 and parameters: {'n_estimators': 171, 'learning_rate': 0.018120811481782084, 'max_depth': 3, 'reg_lambda': 0.5240720215673642, 'reg_alpha': 0.7698973553772981, 'colsample_bytree': 0.7804639713308561}. Best is trial 29 with value: 0.9700854700854701.\n",
      "[I 2025-07-14 16:17:16,122] Trial 168 finished with value: 0.9698605488079173 and parameters: {'n_estimators': 179, 'learning_rate': 0.02497639822761941, 'max_depth': 2, 'reg_lambda': 0.18687378945139196, 'reg_alpha': 0.8828289601781066, 'colsample_bytree': 0.573000716823841}. Best is trial 29 with value: 0.9700854700854701.\n",
      "[I 2025-07-14 16:17:16,271] Trial 169 finished with value: 0.9698605488079173 and parameters: {'n_estimators': 145, 'learning_rate': 0.014921602733455821, 'max_depth': 2, 'reg_lambda': 0.3592097453747263, 'reg_alpha': 0.5243125278469203, 'colsample_bytree': 0.5822192522994271}. Best is trial 29 with value: 0.9700854700854701.\n",
      "[I 2025-07-14 16:17:16,418] Trial 170 finished with value: 0.9698605488079173 and parameters: {'n_estimators': 124, 'learning_rate': 0.061985445188884866, 'max_depth': 3, 'reg_lambda': 0.9973644899097225, 'reg_alpha': 0.03135109250812002, 'colsample_bytree': 0.62160681429614}. Best is trial 29 with value: 0.9700854700854701.\n",
      "[I 2025-07-14 16:17:16,613] Trial 171 finished with value: 0.9698605488079173 and parameters: {'n_estimators': 239, 'learning_rate': 0.02109561713099049, 'max_depth': 2, 'reg_lambda': 0.4272023283165523, 'reg_alpha': 0.9445364106335538, 'colsample_bytree': 0.6100729999192518}. Best is trial 29 with value: 0.9700854700854701.\n",
      "[I 2025-07-14 16:17:16,807] Trial 172 finished with value: 0.9698605488079173 and parameters: {'n_estimators': 243, 'learning_rate': 0.020143088645770236, 'max_depth': 2, 'reg_lambda': 0.471664074035722, 'reg_alpha': 0.7153738381759279, 'colsample_bytree': 0.5969961826550371}. Best is trial 29 with value: 0.9700854700854701.\n",
      "[I 2025-07-14 16:17:16,991] Trial 173 finished with value: 0.9698605488079173 and parameters: {'n_estimators': 225, 'learning_rate': 0.023562573461293864, 'max_depth': 2, 'reg_lambda': 0.40550374494746344, 'reg_alpha': 0.989201280155704, 'colsample_bytree': 0.6121428426684934}. Best is trial 29 with value: 0.9700854700854701.\n",
      "[I 2025-07-14 16:17:17,206] Trial 174 finished with value: 0.9700854700854701 and parameters: {'n_estimators': 262, 'learning_rate': 0.016430299972126392, 'max_depth': 2, 'reg_lambda': 0.676459567225497, 'reg_alpha': 0.8031795598223683, 'colsample_bytree': 0.5463120476384634}. Best is trial 29 with value: 0.9700854700854701.\n",
      "[I 2025-07-14 16:17:17,408] Trial 175 finished with value: 0.9691857849752586 and parameters: {'n_estimators': 236, 'learning_rate': 0.010841937701578184, 'max_depth': 2, 'reg_lambda': 0.30950523180677036, 'reg_alpha': 0.9978327542179204, 'colsample_bytree': 0.9007486006810103}. Best is trial 29 with value: 0.9700854700854701.\n",
      "[I 2025-07-14 16:17:17,598] Trial 176 finished with value: 0.9698605488079173 and parameters: {'n_estimators': 216, 'learning_rate': 0.026846057754438518, 'max_depth': 2, 'reg_lambda': 0.47357675982590514, 'reg_alpha': 0.6576563078904317, 'colsample_bytree': 0.6428127436195795}. Best is trial 29 with value: 0.9700854700854701.\n",
      "[I 2025-07-14 16:17:17,709] Trial 177 finished with value: 0.9687359424201529 and parameters: {'n_estimators': 100, 'learning_rate': 0.019147209089333844, 'max_depth': 1, 'reg_lambda': 0.8266719915780125, 'reg_alpha': 0.8413259530745134, 'colsample_bytree': 0.5916445867808511}. Best is trial 29 with value: 0.9700854700854701.\n",
      "[I 2025-07-14 16:17:18,014] Trial 178 finished with value: 0.9700854700854701 and parameters: {'n_estimators': 439, 'learning_rate': 0.01366479886099404, 'max_depth': 2, 'reg_lambda': 0.5832299626342053, 'reg_alpha': 0.9940686771695583, 'colsample_bytree': 0.5671739745127171}. Best is trial 29 with value: 0.9700854700854701.\n",
      "[I 2025-07-14 16:17:18,218] Trial 179 finished with value: 0.9698605488079173 and parameters: {'n_estimators': 202, 'learning_rate': 0.021321194573929263, 'max_depth': 3, 'reg_lambda': 0.36220331247790133, 'reg_alpha': 0.7714808124274584, 'colsample_bytree': 0.6310672441329959}. Best is trial 29 with value: 0.9700854700854701.\n",
      "[I 2025-07-14 16:17:18,375] Trial 180 finished with value: 0.9700854700854701 and parameters: {'n_estimators': 163, 'learning_rate': 0.029882529348170456, 'max_depth': 2, 'reg_lambda': 0.638457979349722, 'reg_alpha': 0.05909308727567484, 'colsample_bytree': 0.44774648740135836}. Best is trial 29 with value: 0.9700854700854701.\n",
      "[I 2025-07-14 16:17:18,588] Trial 181 finished with value: 0.9700854700854701 and parameters: {'n_estimators': 265, 'learning_rate': 0.01360086090092724, 'max_depth': 2, 'reg_lambda': 0.20230406637816895, 'reg_alpha': 0.8906742966315128, 'colsample_bytree': 0.6022156137314343}. Best is trial 29 with value: 0.9700854700854701.\n",
      "[I 2025-07-14 16:17:18,794] Trial 182 finished with value: 0.9700854700854701 and parameters: {'n_estimators': 254, 'learning_rate': 0.016181900008138763, 'max_depth': 2, 'reg_lambda': 0.2711006893621103, 'reg_alpha': 0.6717919997032564, 'colsample_bytree': 0.5806591813291078}. Best is trial 29 with value: 0.9700854700854701.\n",
      "[I 2025-07-14 16:17:18,998] Trial 183 finished with value: 0.9698605488079173 and parameters: {'n_estimators': 256, 'learning_rate': 0.018154983254466853, 'max_depth': 2, 'reg_lambda': 0.253662838433114, 'reg_alpha': 0.8474712050379348, 'colsample_bytree': 0.6183545831582038}. Best is trial 29 with value: 0.9700854700854701.\n",
      "[I 2025-07-14 16:17:19,208] Trial 184 finished with value: 0.9700854700854701 and parameters: {'n_estimators': 246, 'learning_rate': 0.022804377162223947, 'max_depth': 2, 'reg_lambda': 0.14484473871818257, 'reg_alpha': 0.595750033226169, 'colsample_bytree': 0.55909583452857}. Best is trial 29 with value: 0.9700854700854701.\n",
      "[I 2025-07-14 16:17:19,429] Trial 185 finished with value: 0.9700854700854701 and parameters: {'n_estimators': 282, 'learning_rate': 0.014502036360470458, 'max_depth': 2, 'reg_lambda': 0.3222914360942749, 'reg_alpha': 0.9972847586402537, 'colsample_bytree': 0.5225479950445765}. Best is trial 29 with value: 0.9700854700854701.\n",
      "[I 2025-07-14 16:17:19,580] Trial 186 finished with value: 0.9694107062528116 and parameters: {'n_estimators': 139, 'learning_rate': 0.011666262684887062, 'max_depth': 2, 'reg_lambda': 0.4249221039575589, 'reg_alpha': 0.7187059705859341, 'colsample_bytree': 0.5904948763562551}. Best is trial 29 with value: 0.9700854700854701.\n",
      "[I 2025-07-14 16:17:19,776] Trial 187 finished with value: 0.9700854700854701 and parameters: {'n_estimators': 235, 'learning_rate': 0.025448026198551424, 'max_depth': 2, 'reg_lambda': 0.5231573853847008, 'reg_alpha': 0.8705242377425968, 'colsample_bytree': 0.6042138221245367}. Best is trial 29 with value: 0.9700854700854701.\n",
      "[I 2025-07-14 16:17:20,075] Trial 188 finished with value: 0.9700854700854701 and parameters: {'n_estimators': 395, 'learning_rate': 0.017321351499388054, 'max_depth': 2, 'reg_lambda': 0.3756908364664272, 'reg_alpha': 0.44166954462966623, 'colsample_bytree': 0.5368478788159564}. Best is trial 29 with value: 0.9700854700854701.\n",
      "[I 2025-07-14 16:17:20,395] Trial 189 finished with value: 0.9700854700854701 and parameters: {'n_estimators': 229, 'learning_rate': 0.020168765342617936, 'max_depth': 3, 'reg_lambda': 0.766992086916931, 'reg_alpha': 0.7914132101534405, 'colsample_bytree': 0.5728467443986922}. Best is trial 29 with value: 0.9700854700854701.\n",
      "[I 2025-07-14 16:17:20,703] Trial 190 finished with value: 0.9700854700854701 and parameters: {'n_estimators': 444, 'learning_rate': 0.015298143815412111, 'max_depth': 2, 'reg_lambda': 0.44924332650065507, 'reg_alpha': 0.5106886307027816, 'colsample_bytree': 0.6197978676452742}. Best is trial 29 with value: 0.9700854700854701.\n",
      "[I 2025-07-14 16:17:20,880] Trial 191 finished with value: 0.9700854700854701 and parameters: {'n_estimators': 203, 'learning_rate': 0.018119869749475402, 'max_depth': 2, 'reg_lambda': 0.5367255090399122, 'reg_alpha': 0.7392375655872683, 'colsample_bytree': 0.6323817625816393}. Best is trial 29 with value: 0.9700854700854701.\n",
      "[I 2025-07-14 16:17:21,066] Trial 192 finished with value: 0.9700854700854701 and parameters: {'n_estimators': 220, 'learning_rate': 0.021973195626743408, 'max_depth': 2, 'reg_lambda': 0.58520805913139, 'reg_alpha': 0.9943752447776975, 'colsample_bytree': 0.6604311990874936}. Best is trial 29 with value: 0.9700854700854701.\n",
      "[I 2025-07-14 16:17:21,255] Trial 193 finished with value: 0.9698605488079173 and parameters: {'n_estimators': 210, 'learning_rate': 0.01837009183416203, 'max_depth': 2, 'reg_lambda': 0.3342631221095953, 'reg_alpha': 0.6753051516590838, 'colsample_bytree': 0.7621835849317353}. Best is trial 29 with value: 0.9700854700854701.\n",
      "[I 2025-07-14 16:17:21,441] Trial 194 finished with value: 0.9698605488079173 and parameters: {'n_estimators': 213, 'learning_rate': 0.024709420941742097, 'max_depth': 2, 'reg_lambda': 0.694516127986048, 'reg_alpha': 0.03942503818221204, 'colsample_bytree': 0.6400560686708348}. Best is trial 29 with value: 0.9700854700854701.\n",
      "[I 2025-07-14 16:17:21,747] Trial 195 finished with value: 0.9698605488079173 and parameters: {'n_estimators': 429, 'learning_rate': 0.012295412893421185, 'max_depth': 2, 'reg_lambda': 0.4630204313560727, 'reg_alpha': 0.835686979911562, 'colsample_bytree': 0.6835704074667982}. Best is trial 29 with value: 0.9700854700854701.\n",
      "[I 2025-07-14 16:17:21,912] Trial 196 finished with value: 0.9700854700854701 and parameters: {'n_estimators': 189, 'learning_rate': 0.033094663808149904, 'max_depth': 2, 'reg_lambda': 0.8649342887229755, 'reg_alpha': 0.003037621598267218, 'colsample_bytree': 0.6118202945096453}. Best is trial 29 with value: 0.9700854700854701.\n",
      "[I 2025-07-14 16:17:22,129] Trial 197 finished with value: 0.9700854700854701 and parameters: {'n_estimators': 273, 'learning_rate': 0.015569754100225687, 'max_depth': 2, 'reg_lambda': 0.39617270358028756, 'reg_alpha': 0.589145242370002, 'colsample_bytree': 0.6246478867106685}. Best is trial 29 with value: 0.9700854700854701.\n",
      "[I 2025-07-14 16:17:22,352] Trial 198 finished with value: 0.9698605488079173 and parameters: {'n_estimators': 224, 'learning_rate': 0.02148293646569919, 'max_depth': 3, 'reg_lambda': 0.2833994948243107, 'reg_alpha': 0.884357830694035, 'colsample_bytree': 0.6493270845682263}. Best is trial 29 with value: 0.9700854700854701.\n",
      "[I 2025-07-14 16:17:22,506] Trial 199 finished with value: 0.9700854700854701 and parameters: {'n_estimators': 156, 'learning_rate': 0.028869849602868772, 'max_depth': 2, 'reg_lambda': 0.523276971104266, 'reg_alpha': 0.7445346798555534, 'colsample_bytree': 0.5977804523231796}. Best is trial 29 with value: 0.9700854700854701.\n",
      "[I 2025-07-14 16:17:22,762] Trial 200 finished with value: 0.9700854700854701 and parameters: {'n_estimators': 349, 'learning_rate': 0.018362891189471008, 'max_depth': 2, 'reg_lambda': 0.23370840157465694, 'reg_alpha': 0.8815360304054514, 'colsample_bytree': 0.5562506516650428}. Best is trial 29 with value: 0.9700854700854701.\n",
      "[I 2025-07-14 16:17:22,949] Trial 201 finished with value: 0.9700854700854701 and parameters: {'n_estimators': 220, 'learning_rate': 0.026666632444015455, 'max_depth': 2, 'reg_lambda': 0.5008951862715393, 'reg_alpha': 0.7584048542282172, 'colsample_bytree': 0.5817906708634584}. Best is trial 29 with value: 0.9700854700854701.\n",
      "[I 2025-07-14 16:17:23,136] Trial 202 finished with value: 0.9698605488079173 and parameters: {'n_estimators': 215, 'learning_rate': 0.022635072503134287, 'max_depth': 2, 'reg_lambda': 0.5914517514366546, 'reg_alpha': 0.6412687292583383, 'colsample_bytree': 0.5860862450878181}. Best is trial 29 with value: 0.9700854700854701.\n",
      "[I 2025-07-14 16:17:23,345] Trial 203 finished with value: 0.9700854700854701 and parameters: {'n_estimators': 249, 'learning_rate': 0.028107947739705885, 'max_depth': 2, 'reg_lambda': 0.4166338457918589, 'reg_alpha': 0.9897599226659173, 'colsample_bytree': 0.6025633080387021}. Best is trial 29 with value: 0.9700854700854701.\n",
      "[I 2025-07-14 16:17:23,546] Trial 204 finished with value: 0.9700854700854701 and parameters: {'n_estimators': 229, 'learning_rate': 0.020158166668654998, 'max_depth': 2, 'reg_lambda': 0.009630384157544586, 'reg_alpha': 0.7149238607514673, 'colsample_bytree': 0.5695382316176785}. Best is trial 29 with value: 0.9700854700854701.\n",
      "[I 2025-07-14 16:17:23,844] Trial 205 finished with value: 0.9698605488079173 and parameters: {'n_estimators': 205, 'learning_rate': 0.12508724309556402, 'max_depth': 6, 'reg_lambda': 0.6992684285168645, 'reg_alpha': 0.8275461467934505, 'colsample_bytree': 0.5550035228461706}. Best is trial 29 with value: 0.9700854700854701.\n",
      "[I 2025-07-14 16:17:24,041] Trial 206 finished with value: 0.9700854700854701 and parameters: {'n_estimators': 239, 'learning_rate': 0.024529235399666338, 'max_depth': 2, 'reg_lambda': 0.3409269921594949, 'reg_alpha': 0.38331371571033834, 'colsample_bytree': 0.5882130322483398}. Best is trial 29 with value: 0.9700854700854701.\n",
      "[I 2025-07-14 16:17:24,185] Trial 207 finished with value: 0.9700854700854701 and parameters: {'n_estimators': 134, 'learning_rate': 0.03756865820238065, 'max_depth': 2, 'reg_lambda': 0.515249466567161, 'reg_alpha': 0.5601018061898857, 'colsample_bytree': 0.543727618983509}. Best is trial 29 with value: 0.9700854700854701.\n",
      "[I 2025-07-14 16:17:24,430] Trial 208 finished with value: 0.9698605488079173 and parameters: {'n_estimators': 199, 'learning_rate': 0.015964479463120865, 'max_depth': 5, 'reg_lambda': 0.03244165229134351, 'reg_alpha': 0.8877583201379129, 'colsample_bytree': 0.609396141161858}. Best is trial 29 with value: 0.9700854700854701.\n",
      "[I 2025-07-14 16:17:24,652] Trial 209 finished with value: 0.9698605488079173 and parameters: {'n_estimators': 219, 'learning_rate': 0.0307474751763634, 'max_depth': 3, 'reg_lambda': 0.0750686853612251, 'reg_alpha': 0.02371132293072167, 'colsample_bytree': 0.509123236916241}. Best is trial 29 with value: 0.9700854700854701.\n",
      "[I 2025-07-14 16:17:24,797] Trial 210 finished with value: 0.9696356275303644 and parameters: {'n_estimators': 147, 'learning_rate': 0.013912848442616907, 'max_depth': 2, 'reg_lambda': 0.8760433879656663, 'reg_alpha': 0.7470834939320443, 'colsample_bytree': 0.7038350080176051}. Best is trial 29 with value: 0.9700854700854701.\n",
      "[I 2025-07-14 16:17:24,989] Trial 211 finished with value: 0.9700854700854701 and parameters: {'n_estimators': 230, 'learning_rate': 0.019492197632801894, 'max_depth': 2, 'reg_lambda': 0.3633569645474168, 'reg_alpha': 0.9933801400568594, 'colsample_bytree': 0.5479039323209484}. Best is trial 29 with value: 0.9700854700854701.\n",
      "[I 2025-07-14 16:17:25,185] Trial 212 finished with value: 0.9700854700854701 and parameters: {'n_estimators': 234, 'learning_rate': 0.01976626386742444, 'max_depth': 2, 'reg_lambda': 0.29507483289049774, 'reg_alpha': 0.8091712060223084, 'colsample_bytree': 0.5650793001931244}. Best is trial 29 with value: 0.9700854700854701.\n",
      "[I 2025-07-14 16:17:25,389] Trial 213 finished with value: 0.9700854700854701 and parameters: {'n_estimators': 245, 'learning_rate': 0.02516518543735521, 'max_depth': 2, 'reg_lambda': 0.4268566301241234, 'reg_alpha': 0.6631009082506033, 'colsample_bytree': 0.576109436925354}. Best is trial 29 with value: 0.9700854700854701.\n",
      "[I 2025-07-14 16:17:25,582] Trial 214 finished with value: 0.9696356275303644 and parameters: {'n_estimators': 228, 'learning_rate': 0.01689260455788224, 'max_depth': 2, 'reg_lambda': 0.3529632603241593, 'reg_alpha': 0.860965251072236, 'colsample_bytree': 0.416653912719249}. Best is trial 29 with value: 0.9700854700854701.\n",
      "[I 2025-07-14 16:17:25,765] Trial 215 finished with value: 0.9698605488079173 and parameters: {'n_estimators': 209, 'learning_rate': 0.0225059262525528, 'max_depth': 2, 'reg_lambda': 0.46820508461429844, 'reg_alpha': 0.7705260561061811, 'colsample_bytree': 0.5282223437618226}. Best is trial 29 with value: 0.9700854700854701.\n",
      "[I 2025-07-14 16:17:25,968] Trial 216 finished with value: 0.9700854700854701 and parameters: {'n_estimators': 239, 'learning_rate': 0.02752318896291177, 'max_depth': 2, 'reg_lambda': 0.6145344493584718, 'reg_alpha': 0.8786620971896043, 'colsample_bytree': 0.5491852398551071}. Best is trial 29 with value: 0.9700854700854701.\n",
      "[I 2025-07-14 16:17:26,164] Trial 217 finished with value: 0.9700854700854701 and parameters: {'n_estimators': 225, 'learning_rate': 0.02068778146710183, 'max_depth': 2, 'reg_lambda': 0.39915958489542125, 'reg_alpha': 0.5044089215051633, 'colsample_bytree': 0.6291408189276967}. Best is trial 29 with value: 0.9700854700854701.\n",
      "[I 2025-07-14 16:17:26,379] Trial 218 finished with value: 0.9698605488079173 and parameters: {'n_estimators': 260, 'learning_rate': 0.017365261540506646, 'max_depth': 2, 'reg_lambda': 0.7796087457925746, 'reg_alpha': 0.9941749294421282, 'colsample_bytree': 0.5984125540350425}. Best is trial 29 with value: 0.9700854700854701.\n",
      "[I 2025-07-14 16:17:26,570] Trial 219 finished with value: 0.9696356275303644 and parameters: {'n_estimators': 183, 'learning_rate': 0.013610829509178673, 'max_depth': 3, 'reg_lambda': 0.9850177532922196, 'reg_alpha': 0.6869785978774053, 'colsample_bytree': 0.5362726047620306}. Best is trial 29 with value: 0.9700854700854701.\n",
      "[I 2025-07-14 16:17:26,732] Trial 220 finished with value: 0.9700854700854701 and parameters: {'n_estimators': 167, 'learning_rate': 0.023186335838561185, 'max_depth': 2, 'reg_lambda': 0.3198919525838946, 'reg_alpha': 0.5904804655955629, 'colsample_bytree': 0.6150824901422011}. Best is trial 29 with value: 0.9700854700854701.\n",
      "[I 2025-07-14 16:17:26,900] Trial 221 finished with value: 0.9700854700854701 and parameters: {'n_estimators': 183, 'learning_rate': 0.014652862602795082, 'max_depth': 2, 'reg_lambda': 0.36453352381590687, 'reg_alpha': 0.848885919389815, 'colsample_bytree': 0.5763539765551103}. Best is trial 29 with value: 0.9700854700854701.\n",
      "[I 2025-07-14 16:17:27,075] Trial 222 finished with value: 0.9700854700854701 and parameters: {'n_estimators': 197, 'learning_rate': 0.018577206171870905, 'max_depth': 2, 'reg_lambda': 0.47164972456888293, 'reg_alpha': 0.774864411499926, 'colsample_bytree': 0.5655553103419677}. Best is trial 29 with value: 0.9700854700854701.\n",
      "[I 2025-07-14 16:17:27,262] Trial 223 finished with value: 0.9696356275303644 and parameters: {'n_estimators': 208, 'learning_rate': 0.0099609296231992, 'max_depth': 2, 'reg_lambda': 0.39246519210459724, 'reg_alpha': 0.9069778209725595, 'colsample_bytree': 0.5919373643764765}. Best is trial 29 with value: 0.9700854700854701.\n",
      "[I 2025-07-14 16:17:27,510] Trial 224 finished with value: 0.9700854700854701 and parameters: {'n_estimators': 324, 'learning_rate': 0.012175782377503658, 'max_depth': 2, 'reg_lambda': 0.2483583458122391, 'reg_alpha': 0.9995811473957438, 'colsample_bytree': 0.5607839777282975}. Best is trial 29 with value: 0.9700854700854701.\n",
      "[I 2025-07-14 16:17:27,696] Trial 225 finished with value: 0.9700854700854701 and parameters: {'n_estimators': 214, 'learning_rate': 0.015650678816027615, 'max_depth': 2, 'reg_lambda': 0.5518369728593097, 'reg_alpha': 0.7888053650425222, 'colsample_bytree': 0.5794183466663998}. Best is trial 29 with value: 0.9700854700854701.\n",
      "[I 2025-07-14 16:17:27,853] Trial 226 finished with value: 0.9689608636977058 and parameters: {'n_estimators': 158, 'learning_rate': 0.4469142154227502, 'max_depth': 2, 'reg_lambda': 0.30368471953987136, 'reg_alpha': 0.6862119960352937, 'colsample_bytree': 0.6010366607416986}. Best is trial 29 with value: 0.9700854700854701.\n",
      "[I 2025-07-14 16:17:28,018] Trial 227 finished with value: 0.9700854700854701 and parameters: {'n_estimators': 175, 'learning_rate': 0.01989116162856923, 'max_depth': 2, 'reg_lambda': 0.4341274448917266, 'reg_alpha': 0.8404857959619744, 'colsample_bytree': 0.5523547571277612}. Best is trial 29 with value: 0.9700854700854701.\n",
      "[I 2025-07-14 16:17:28,216] Trial 228 finished with value: 0.9700854700854701 and parameters: {'n_estimators': 224, 'learning_rate': 0.01658011124855505, 'max_depth': 2, 'reg_lambda': 0.6356014632002992, 'reg_alpha': 0.9974093554529625, 'colsample_bytree': 0.5282203285547219}. Best is trial 29 with value: 0.9700854700854701.\n",
      "[I 2025-07-14 16:17:28,372] Trial 229 finished with value: 0.9694107062528116 and parameters: {'n_estimators': 150, 'learning_rate': 0.013928972105431717, 'max_depth': 2, 'reg_lambda': 0.36416301926974226, 'reg_alpha': 0.6175305366050807, 'colsample_bytree': 0.43124715854663026}. Best is trial 29 with value: 0.9700854700854701.\n",
      "[I 2025-07-14 16:17:28,573] Trial 230 finished with value: 0.9700854700854701 and parameters: {'n_estimators': 192, 'learning_rate': 0.02491906570824176, 'max_depth': 3, 'reg_lambda': 0.5183363796576296, 'reg_alpha': 0.8788372568855702, 'colsample_bytree': 0.6097416910942648}. Best is trial 29 with value: 0.9700854700854701.\n",
      "[I 2025-07-14 16:17:28,779] Trial 231 finished with value: 0.9700854700854701 and parameters: {'n_estimators': 249, 'learning_rate': 0.022416425025647762, 'max_depth': 2, 'reg_lambda': 0.4328826051442763, 'reg_alpha': 0.5212337331687389, 'colsample_bytree': 0.7967899987351702}. Best is trial 29 with value: 0.9700854700854701.\n",
      "[I 2025-07-14 16:17:29,048] Trial 232 finished with value: 0.9698605488079173 and parameters: {'n_estimators': 372, 'learning_rate': 0.032099616445898434, 'max_depth': 2, 'reg_lambda': 0.3386882091613852, 'reg_alpha': 0.4495481878362721, 'colsample_bytree': 0.5455132842789573}. Best is trial 29 with value: 0.9700854700854701.\n",
      "[I 2025-07-14 16:17:29,255] Trial 233 finished with value: 0.9700854700854701 and parameters: {'n_estimators': 242, 'learning_rate': 0.02610093595828355, 'max_depth': 2, 'reg_lambda': 0.47685015562598987, 'reg_alpha': 0.7338830158606358, 'colsample_bytree': 0.519166314255769}. Best is trial 29 with value: 0.9700854700854701.\n",
      "[I 2025-07-14 16:17:29,455] Trial 234 finished with value: 0.9700854700854701 and parameters: {'n_estimators': 233, 'learning_rate': 0.021090079232839495, 'max_depth': 2, 'reg_lambda': 0.3822856558614766, 'reg_alpha': 0.5588174716961031, 'colsample_bytree': 0.5853415738508239}. Best is trial 29 with value: 0.9700854700854701.\n",
      "[I 2025-07-14 16:17:29,648] Trial 235 finished with value: 0.9700854700854701 and parameters: {'n_estimators': 220, 'learning_rate': 0.01818433309797857, 'max_depth': 2, 'reg_lambda': 0.279783358714352, 'reg_alpha': 0.8685104085524799, 'colsample_bytree': 0.5135574882777846}. Best is trial 29 with value: 0.9700854700854701.\n",
      "[I 2025-07-14 16:17:29,953] Trial 236 finished with value: 0.9700854700854701 and parameters: {'n_estimators': 423, 'learning_rate': 0.023972290099173746, 'max_depth': 2, 'reg_lambda': 0.5910290795235171, 'reg_alpha': 0.7316893510773945, 'colsample_bytree': 0.6178428744759189}. Best is trial 29 with value: 0.9700854700854701.\n",
      "[I 2025-07-14 16:17:30,179] Trial 237 finished with value: 0.9700854700854701 and parameters: {'n_estimators': 254, 'learning_rate': 0.028113107079919417, 'max_depth': 2, 'reg_lambda': 0.46218013647216755, 'reg_alpha': 0.6352145934812099, 'colsample_bytree': 0.5670706998831725}. Best is trial 29 with value: 0.9700854700854701.\n",
      "[I 2025-07-14 16:17:30,454] Trial 238 finished with value: 0.9700854700854701 and parameters: {'n_estimators': 248, 'learning_rate': 0.02116615189999879, 'max_depth': 3, 'reg_lambda': 0.3914986059632788, 'reg_alpha': 0.41818825604965765, 'colsample_bytree': 0.4988257483720143}. Best is trial 29 with value: 0.9700854700854701.\n",
      "[I 2025-07-14 16:17:30,655] Trial 239 finished with value: 0.9700854700854701 and parameters: {'n_estimators': 238, 'learning_rate': 0.017175691821783825, 'max_depth': 2, 'reg_lambda': 0.7841301293767641, 'reg_alpha': 0.8894382678428742, 'colsample_bytree': 0.5429803922570728}. Best is trial 29 with value: 0.9700854700854701.\n",
      "[I 2025-07-14 16:17:30,847] Trial 240 finished with value: 0.9698605488079173 and parameters: {'n_estimators': 217, 'learning_rate': 0.015260405920987636, 'max_depth': 2, 'reg_lambda': 0.5201262921526586, 'reg_alpha': 0.7279045048684258, 'colsample_bytree': 0.6364147853213779}. Best is trial 29 with value: 0.9700854700854701.\n",
      "[I 2025-07-14 16:17:31,069] Trial 241 finished with value: 0.9700854700854701 and parameters: {'n_estimators': 259, 'learning_rate': 0.034087132101507475, 'max_depth': 2, 'reg_lambda': 0.914284821688079, 'reg_alpha': 0.4019570557338987, 'colsample_bytree': 0.5356843776589063}. Best is trial 29 with value: 0.9700854700854701.\n",
      "[I 2025-07-14 16:17:31,290] Trial 242 finished with value: 0.9700854700854701 and parameters: {'n_estimators': 251, 'learning_rate': 0.04504465917688482, 'max_depth': 2, 'reg_lambda': 0.8733826938380084, 'reg_alpha': 0.4569062486511679, 'colsample_bytree': 0.8484626597504333}. Best is trial 29 with value: 0.9700854700854701.\n",
      "[I 2025-07-14 16:17:31,493] Trial 243 finished with value: 0.9700854700854701 and parameters: {'n_estimators': 233, 'learning_rate': 0.029992133860282696, 'max_depth': 2, 'reg_lambda': 0.948277376049568, 'reg_alpha': 0.5007259716659751, 'colsample_bytree': 0.5319103658196592}. Best is trial 29 with value: 0.9700854700854701.\n",
      "[I 2025-07-14 16:17:31,701] Trial 244 finished with value: 0.9698605488079173 and parameters: {'n_estimators': 245, 'learning_rate': 0.026681131933685508, 'max_depth': 2, 'reg_lambda': 0.3208859141866146, 'reg_alpha': 0.3514196659816475, 'colsample_bytree': 0.4558453885251563}. Best is trial 29 with value: 0.9700854700854701.\n",
      "[I 2025-07-14 16:17:31,914] Trial 245 finished with value: 0.9700854700854701 and parameters: {'n_estimators': 264, 'learning_rate': 0.024198298204980307, 'max_depth': 2, 'reg_lambda': 0.7908588687117448, 'reg_alpha': 0.8995727524623911, 'colsample_bytree': 0.5093954194286595}. Best is trial 29 with value: 0.9700854700854701.\n",
      "[I 2025-07-14 16:17:32,222] Trial 246 finished with value: 0.9698605488079173 and parameters: {'n_estimators': 436, 'learning_rate': 0.035089588304670495, 'max_depth': 2, 'reg_lambda': 0.6904106040128561, 'reg_alpha': 0.8162782817151663, 'colsample_bytree': 0.5561840258398105}. Best is trial 29 with value: 0.9700854700854701.\n",
      "[I 2025-07-14 16:17:32,419] Trial 247 finished with value: 0.970310391363023 and parameters: {'n_estimators': 228, 'learning_rate': 0.019682432356160393, 'max_depth': 2, 'reg_lambda': 0.41697140672558264, 'reg_alpha': 0.5750151331201389, 'colsample_bytree': 0.5731026111813804}. Best is trial 247 with value: 0.970310391363023.\n",
      "[I 2025-07-14 16:17:32,636] Trial 248 finished with value: 0.9700854700854701 and parameters: {'n_estimators': 225, 'learning_rate': 0.019274858954173708, 'max_depth': 3, 'reg_lambda': 0.43112656926836507, 'reg_alpha': 0.5575752726350236, 'colsample_bytree': 0.5904033920482294}. Best is trial 247 with value: 0.970310391363023.\n",
      "[I 2025-07-14 16:17:32,876] Trial 249 finished with value: 0.9700854700854701 and parameters: {'n_estimators': 305, 'learning_rate': 0.022194823940962654, 'max_depth': 2, 'reg_lambda': 0.40752036580301443, 'reg_alpha': 0.9939880138798335, 'colsample_bytree': 0.5735529492496815}. Best is trial 247 with value: 0.970310391363023.\n",
      "[I 2025-07-14 16:17:33,032] Trial 250 finished with value: 0.9700854700854701 and parameters: {'n_estimators': 162, 'learning_rate': 0.01911128503798502, 'max_depth': 2, 'reg_lambda': 0.5166201553181945, 'reg_alpha': 0.6466866961754517, 'colsample_bytree': 0.6045792998212731}. Best is trial 247 with value: 0.970310391363023.\n",
      "[I 2025-07-14 16:17:33,230] Trial 251 finished with value: 0.9700854700854701 and parameters: {'n_estimators': 232, 'learning_rate': 0.012674406811259024, 'max_depth': 2, 'reg_lambda': 0.3362998564822145, 'reg_alpha': 0.781353821696538, 'colsample_bytree': 0.5729653838849513}. Best is trial 247 with value: 0.970310391363023.\n",
      "[I 2025-07-14 16:17:33,382] Trial 252 finished with value: 0.9698605488079173 and parameters: {'n_estimators': 139, 'learning_rate': 0.016711323182077582, 'max_depth': 2, 'reg_lambda': 0.451803761277992, 'reg_alpha': 0.005403396280075382, 'colsample_bytree': 0.5941796945420464}. Best is trial 247 with value: 0.970310391363023.\n",
      "[I 2025-07-14 16:17:33,574] Trial 253 finished with value: 0.9698605488079173 and parameters: {'n_estimators': 214, 'learning_rate': 0.021617427131971612, 'max_depth': 2, 'reg_lambda': 0.5760022376364997, 'reg_alpha': 0.6794326378860078, 'colsample_bytree': 0.5567312303200678}. Best is trial 247 with value: 0.970310391363023.\n",
      "[I 2025-07-14 16:17:33,826] Trial 254 finished with value: 0.9698605488079173 and parameters: {'n_estimators': 227, 'learning_rate': 0.014402094398484905, 'max_depth': 4, 'reg_lambda': 0.26784936152676936, 'reg_alpha': 0.8581733063058193, 'colsample_bytree': 0.6236822679800472}. Best is trial 247 with value: 0.970310391363023.\n",
      "[I 2025-07-14 16:17:34,170] Trial 255 finished with value: 0.9698605488079173 and parameters: {'n_estimators': 386, 'learning_rate': 0.01904251763853071, 'max_depth': 3, 'reg_lambda': 0.3719501420370004, 'reg_alpha': 0.9915833544466636, 'colsample_bytree': 0.5808047488720304}. Best is trial 247 with value: 0.970310391363023.\n",
      "[I 2025-07-14 16:17:34,469] Trial 256 finished with value: 0.9700854700854701 and parameters: {'n_estimators': 416, 'learning_rate': 0.0240839458778488, 'max_depth': 2, 'reg_lambda': 0.48483040839028546, 'reg_alpha': 0.6024203649491526, 'colsample_bytree': 0.6131752350711152}. Best is trial 247 with value: 0.970310391363023.\n",
      "[I 2025-07-14 16:17:34,677] Trial 257 finished with value: 0.9700854700854701 and parameters: {'n_estimators': 219, 'learning_rate': 0.01685627025529036, 'max_depth': 2, 'reg_lambda': 0.30302067194232346, 'reg_alpha': 0.7822145301543841, 'colsample_bytree': 0.7404184313195746}. Best is trial 247 with value: 0.970310391363023.\n",
      "[I 2025-07-14 16:17:34,813] Trial 258 finished with value: 0.9698605488079173 and parameters: {'n_estimators': 117, 'learning_rate': 0.020370647941724954, 'max_depth': 2, 'reg_lambda': 0.6688033743211165, 'reg_alpha': 0.9959595828096477, 'colsample_bytree': 0.5636658145558185}. Best is trial 247 with value: 0.970310391363023.\n",
      "[I 2025-07-14 16:17:35,000] Trial 259 finished with value: 0.9700854700854701 and parameters: {'n_estimators': 210, 'learning_rate': 0.02539383841400835, 'max_depth': 2, 'reg_lambda': 0.3769497381626989, 'reg_alpha': 0.7113194488709027, 'colsample_bytree': 0.6000061873592248}. Best is trial 247 with value: 0.970310391363023.\n",
      "[I 2025-07-14 16:17:35,182] Trial 260 finished with value: 0.9696356275303644 and parameters: {'n_estimators': 203, 'learning_rate': 0.011293308988206623, 'max_depth': 2, 'reg_lambda': 0.43019838393026727, 'reg_alpha': 0.8708120503942052, 'colsample_bytree': 0.583798360788598}. Best is trial 247 with value: 0.970310391363023.\n",
      "[I 2025-07-14 16:17:35,376] Trial 261 finished with value: 0.9698605488079173 and parameters: {'n_estimators': 185, 'learning_rate': 0.015478824494012703, 'max_depth': 3, 'reg_lambda': 0.5519236807709975, 'reg_alpha': 0.4911704059716961, 'colsample_bytree': 0.472888493409889}. Best is trial 247 with value: 0.970310391363023.\n",
      "[I 2025-07-14 16:17:35,580] Trial 262 finished with value: 0.9698605488079173 and parameters: {'n_estimators': 238, 'learning_rate': 0.07367112501197925, 'max_depth': 2, 'reg_lambda': 0.20913067023389312, 'reg_alpha': 0.571880404047821, 'colsample_bytree': 0.5488531662704392}. Best is trial 247 with value: 0.970310391363023.\n",
      "[I 2025-07-14 16:17:35,743] Trial 263 finished with value: 0.9700854700854701 and parameters: {'n_estimators': 169, 'learning_rate': 0.027851680196744364, 'max_depth': 2, 'reg_lambda': 0.0035870686750013744, 'reg_alpha': 0.794847026804483, 'colsample_bytree': 0.6281563460650545}. Best is trial 247 with value: 0.970310391363023.\n",
      "[I 2025-07-14 16:17:36,038] Trial 264 finished with value: 0.9700854700854701 and parameters: {'n_estimators': 404, 'learning_rate': 0.022857342799877573, 'max_depth': 2, 'reg_lambda': 0.33967418619383727, 'reg_alpha': 0.6767819652558024, 'colsample_bytree': 0.6041916148495533}. Best is trial 247 with value: 0.970310391363023.\n",
      "[I 2025-07-14 16:17:36,237] Trial 265 finished with value: 0.9696356275303644 and parameters: {'n_estimators': 222, 'learning_rate': 0.017905635661572206, 'max_depth': 2, 'reg_lambda': 0.6354981184773149, 'reg_alpha': 0.8709398040262604, 'colsample_bytree': 0.49094231776179353}. Best is trial 247 with value: 0.970310391363023.\n",
      "[I 2025-07-14 16:17:36,398] Trial 266 finished with value: 0.9696356275303644 and parameters: {'n_estimators': 155, 'learning_rate': 0.013529056716737, 'max_depth': 2, 'reg_lambda': 0.49936886894479937, 'reg_alpha': 0.7622292426561363, 'colsample_bytree': 0.5706319545509905}. Best is trial 247 with value: 0.970310391363023.\n",
      "[I 2025-07-14 16:17:36,570] Trial 267 finished with value: 0.9696356275303644 and parameters: {'n_estimators': 145, 'learning_rate': 0.20451417955671838, 'max_depth': 3, 'reg_lambda': 0.419925826845225, 'reg_alpha': 0.8988599955466853, 'colsample_bytree': 0.71909109526741}. Best is trial 247 with value: 0.970310391363023.\n",
      "[I 2025-07-14 16:17:36,784] Trial 268 finished with value: 0.9694107062528116 and parameters: {'n_estimators': 126, 'learning_rate': 0.020380190581261153, 'max_depth': 1, 'reg_lambda': 0.2847304581849405, 'reg_alpha': 0.9973188366723374, 'colsample_bytree': 0.6684131240303757}. Best is trial 247 with value: 0.970310391363023.\n",
      "[I 2025-07-14 16:17:38,541] Trial 269 finished with value: 0.9700854700854701 and parameters: {'n_estimators': 443, 'learning_rate': 0.023260067851825075, 'max_depth': 2, 'reg_lambda': 0.7400693836320699, 'reg_alpha': 0.5410593562811492, 'colsample_bytree': 0.5237868115700355}. Best is trial 247 with value: 0.970310391363023.\n",
      "[I 2025-07-14 16:17:38,739] Trial 270 finished with value: 0.9700854700854701 and parameters: {'n_estimators': 232, 'learning_rate': 0.01790332821548226, 'max_depth': 2, 'reg_lambda': 0.5708798717549978, 'reg_alpha': 0.6199626994077191, 'colsample_bytree': 0.5905688812078207}. Best is trial 247 with value: 0.970310391363023.\n",
      "[I 2025-07-14 16:17:39,000] Trial 271 finished with value: 0.9696356275303644 and parameters: {'n_estimators': 243, 'learning_rate': 0.029381606322836852, 'max_depth': 4, 'reg_lambda': 0.241817714817732, 'reg_alpha': 0.748365723766877, 'colsample_bytree': 0.42567309973678835}. Best is trial 247 with value: 0.970310391363023.\n",
      "[I 2025-07-14 16:17:39,256] Trial 272 finished with value: 0.9700854700854701 and parameters: {'n_estimators': 337, 'learning_rate': 0.0157407221152263, 'max_depth': 2, 'reg_lambda': 0.3737185629758437, 'reg_alpha': 0.873415006218464, 'colsample_bytree': 0.5787927077083536}. Best is trial 247 with value: 0.970310391363023.\n",
      "[I 2025-07-14 16:17:39,463] Trial 273 finished with value: 0.9698605488079173 and parameters: {'n_estimators': 197, 'learning_rate': 0.01999029344258601, 'max_depth': 3, 'reg_lambda': 0.46176764902013706, 'reg_alpha': 0.08169081091679818, 'colsample_bytree': 0.558639549867671}. Best is trial 247 with value: 0.970310391363023.\n",
      "[I 2025-07-14 16:17:39,660] Trial 274 finished with value: 0.9700854700854701 and parameters: {'n_estimators': 228, 'learning_rate': 0.026133202367183538, 'max_depth': 2, 'reg_lambda': 0.3296112413013441, 'reg_alpha': 0.6591429996001472, 'colsample_bytree': 0.5432554554108304}. Best is trial 247 with value: 0.970310391363023.\n",
      "[I 2025-07-14 16:17:39,976] Trial 275 finished with value: 0.9698605488079173 and parameters: {'n_estimators': 449, 'learning_rate': 0.014115584668401454, 'max_depth': 2, 'reg_lambda': 0.5244170540957143, 'reg_alpha': 0.9942380249007722, 'colsample_bytree': 0.8840504887191908}. Best is trial 247 with value: 0.970310391363023.\n",
      "[I 2025-07-14 16:17:40,189] Trial 276 finished with value: 0.9700854700854701 and parameters: {'n_estimators': 216, 'learning_rate': 0.022663943038087647, 'max_depth': 2, 'reg_lambda': 0.987948662841516, 'reg_alpha': 0.7919195590588378, 'colsample_bytree': 0.44120314111350845}. Best is trial 247 with value: 0.970310391363023.\n",
      "[I 2025-07-14 16:17:40,430] Trial 277 finished with value: 0.9700854700854701 and parameters: {'n_estimators': 236, 'learning_rate': 0.017705904813305563, 'max_depth': 2, 'reg_lambda': 0.4090133008378709, 'reg_alpha': 0.443811063263106, 'colsample_bytree': 0.6172499475873627}. Best is trial 247 with value: 0.970310391363023.\n",
      "[I 2025-07-14 16:17:40,617] Trial 278 finished with value: 0.9700854700854701 and parameters: {'n_estimators': 210, 'learning_rate': 0.012902188609954896, 'max_depth': 2, 'reg_lambda': 0.6543582063642, 'reg_alpha': 0.8748616089015643, 'colsample_bytree': 0.6024880921155774}. Best is trial 247 with value: 0.970310391363023.\n",
      "[I 2025-07-14 16:17:40,804] Trial 279 finished with value: 0.9700854700854701 and parameters: {'n_estimators': 171, 'learning_rate': 0.030849433312662287, 'max_depth': 3, 'reg_lambda': 0.3140580663734809, 'reg_alpha': 0.704674096995789, 'colsample_bytree': 0.5920152734665474}. Best is trial 247 with value: 0.970310391363023.\n",
      "/usr/local/lib/python3.11/dist-packages/optuna/_experimental.py:32: ExperimentalWarning: Argument ``multivariate`` is an experimental feature. The interface can change in the future.\n",
      "  warnings.warn(\n",
      "/usr/local/lib/python3.11/dist-packages/optuna/_experimental.py:32: ExperimentalWarning: Argument ``group`` is an experimental feature. The interface can change in the future.\n",
      "  warnings.warn(\n"
     ]
    }
   ],
   "source": [
    "import optuna\n",
    "from xgboost import XGBClassifier\n",
    "from sklearn.metrics import accuracy_score\n",
    "import warnings\n",
    "warnings.filterwarnings(\"ignore\", category=UserWarning)\n",
    "warnings.filterwarnings(\"ignore\", category=FutureWarning)\n",
    "warnings.filterwarnings(\"ignore\", category=DeprecationWarning)\n",
    "def objective(trial):\n",
    "    param = {\n",
    "        \"n_estimators\": trial.suggest_int(\"n_estimators\", 100, 450),\n",
    "        \"learning_rate\": trial.suggest_float(\"learning_rate\", 0.005, 2.4, log=True),\n",
    "        \"max_depth\": trial.suggest_int(\"max_depth\", 1, 7),\n",
    "        \"reg_lambda\": trial.suggest_float(\"reg_lambda\", 0.001, 1.0, log=True),\n",
    "        \"reg_alpha\": trial.suggest_float(\"reg_alpha\", 0.001, 1.0, log=True),\n",
    "        \"colsample_bytree\": trial.suggest_float(\"colsample_bytree\", 0.4, 1.0),\n",
    "        \"subsample\": 0.6,\n",
    "        \"verbosity\": 0,\n",
    "        \"random_state\": 42,\n",
    "        \"use_label_encoder\": False,\n",
    "        \"objective\": \"binary:logistic\",\n",
    "        \"eval_metric\": \"error\"\n",
    "    }\n",
    "    model = XGBClassifier(**param)\n",
    "    model.fit(x_train, y_train)\n",
    "    y_pred = model.predict(x_test)\n",
    "    return accuracy_score(y_test, y_pred)\n",
    "\n",
    "study = optuna.create_study(direction=\"maximize\")\n",
    "study.optimize(objective, n_trials=280,timeout=3600)\n",
    "optuna.samplers.TPESampler(multivariate=True, group=True)\n",
    "pruner = optuna.pruners.MedianPruner(n_startup_trials=20, n_warmup_steps=5)\n"
   ]
  },
  {
   "cell_type": "code",
   "execution_count": 9,
   "id": "6d386633",
   "metadata": {
    "execution": {
     "iopub.execute_input": "2025-07-14T16:17:40.851337Z",
     "iopub.status.busy": "2025-07-14T16:17:40.851037Z",
     "iopub.status.idle": "2025-07-14T16:17:40.857185Z",
     "shell.execute_reply": "2025-07-14T16:17:40.856207Z"
    },
    "papermill": {
     "duration": 0.026813,
     "end_time": "2025-07-14T16:17:40.858796",
     "exception": false,
     "start_time": "2025-07-14T16:17:40.831983",
     "status": "completed"
    },
    "tags": []
   },
   "outputs": [
    {
     "data": {
      "text/plain": [
       "{'n_estimators': 228,\n",
       " 'learning_rate': 0.019682432356160393,\n",
       " 'max_depth': 2,\n",
       " 'reg_lambda': 0.41697140672558264,\n",
       " 'reg_alpha': 0.5750151331201389,\n",
       " 'colsample_bytree': 0.5731026111813804}"
      ]
     },
     "execution_count": 9,
     "metadata": {},
     "output_type": "execute_result"
    }
   ],
   "source": [
    "best_params = study.best_params\n",
    "best_params"
   ]
  },
  {
   "cell_type": "raw",
   "id": "0c97fbdf",
   "metadata": {
    "papermill": {
     "duration": 0.017287,
     "end_time": "2025-07-14T16:17:40.894293",
     "exception": false,
     "start_time": "2025-07-14T16:17:40.877006",
     "status": "completed"
    },
    "tags": []
   },
   "source": [
    "##Hiperparametre optimizasyonları"
   ]
  },
  {
   "cell_type": "code",
   "execution_count": 10,
   "id": "43e47cbf",
   "metadata": {
    "execution": {
     "iopub.execute_input": "2025-07-14T16:17:40.931430Z",
     "iopub.status.busy": "2025-07-14T16:17:40.930437Z",
     "iopub.status.idle": "2025-07-14T16:17:41.084452Z",
     "shell.execute_reply": "2025-07-14T16:17:41.083667Z"
    },
    "papermill": {
     "duration": 0.174338,
     "end_time": "2025-07-14T16:17:41.086137",
     "exception": false,
     "start_time": "2025-07-14T16:17:40.911799",
     "status": "completed"
    },
    "tags": []
   },
   "outputs": [
    {
     "name": "stdout",
     "output_type": "stream",
     "text": [
      "\n",
      "🚀 Model is launching... Training in progress:\n",
      "\n",
      "\n",
      "✅ Final accuracy score: 0.9703\n"
     ]
    }
   ],
   "source": [
    "import xgboost as xgb\n",
    "from xgboost import XGBClassifier\n",
    "import optuna\n",
    "from sklearn.metrics import accuracy_score\n",
    "import warnings\n",
    "warnings.filterwarnings(\"ignore\", category=UserWarning)\n",
    "warnings.filterwarnings(\"ignore\", category=FutureWarning)\n",
    "warnings.filterwarnings(\"ignore\", category=DeprecationWarning)\n",
    "final_model = XGBClassifier(\n",
    "    **best_params,\n",
    "    subsample=0.6,\n",
    "    objective=\"binary:logistic\",\n",
    "    eval_metric=\"error\",\n",
    "    verbosity=1,           \n",
    "    random_state=42,\n",
    "    use_label_encoder=False\n",
    ")\n",
    "\n",
    "print(\"\\n🚀 Model is launching... Training in progress:\\n\")\n",
    "final_model.fit(x_train, y_train)\n",
    "\n",
    "y_pred_final = final_model.predict(x_test)\n",
    "final_accuracy = accuracy_score(y_test, y_pred_final)\n",
    "print(f\"\\n✅ Final accuracy score: {final_accuracy:.4f}\")\n",
    "\n"
   ]
  },
  {
   "cell_type": "code",
   "execution_count": 11,
   "id": "3262fd49",
   "metadata": {
    "execution": {
     "iopub.execute_input": "2025-07-14T16:17:41.126685Z",
     "iopub.status.busy": "2025-07-14T16:17:41.126392Z",
     "iopub.status.idle": "2025-07-14T16:17:41.595317Z",
     "shell.execute_reply": "2025-07-14T16:17:41.594128Z"
    },
    "papermill": {
     "duration": 0.490239,
     "end_time": "2025-07-14T16:17:41.597097",
     "exception": false,
     "start_time": "2025-07-14T16:17:41.106858",
     "status": "completed"
    },
    "tags": []
   },
   "outputs": [
    {
     "data": {
      "image/png": "[encoded data removed]",
      "text/plain": [
       "<Figure size 800x600 with 1 Axes>"
      ]
     },
     "metadata": {},
     "output_type": "display_data"
    }
   ],
   "source": [
    "import matplotlib.pyplot as plt\n",
    "from sklearn.metrics import roc_curve, auc\n",
    "y_proba = final_model.predict_proba(x_test)[:, 1]\n",
    "fpr, tpr, thresholds = roc_curve(y_test, y_proba)\n",
    "roc_auc = auc(fpr, tpr)\n",
    "plt.figure(figsize=(8, 6))\n",
    "plt.plot(fpr, tpr, color='green', lw=2, label=f'ROC Curve (AUC = {roc_auc:.4f})')\n",
    "plt.plot([0, 1], [0, 1], color='gray', lw=2, linestyle='--')  \n",
    "plt.xlim([0.0, 1.0])\n",
    "plt.ylim([0.0, 1.05])\n",
    "plt.xlabel('False Positive Rate')\n",
    "plt.ylabel('True Positive Rate')\n",
    "plt.title('XGBoost Model - ROC Curve')\n",
    "plt.legend(loc=\"lower right\")\n",
    "plt.grid(True)\n",
    "plt.tight_layout()\n",
    "plt.show()\n"
   ]
  },
  {
   "cell_type": "code",
   "execution_count": 12,
   "id": "3f4d5663",
   "metadata": {
    "execution": {
     "iopub.execute_input": "2025-07-14T16:17:41.636434Z",
     "iopub.status.busy": "2025-07-14T16:17:41.636155Z",
     "iopub.status.idle": "2025-07-14T16:17:42.224908Z",
     "shell.execute_reply": "2025-07-14T16:17:42.223927Z"
    },
    "papermill": {
     "duration": 0.610436,
     "end_time": "2025-07-14T16:17:42.226635",
     "exception": false,
     "start_time": "2025-07-14T16:17:41.616199",
     "status": "completed"
    },
    "tags": []
   },
   "outputs": [
    {
     "data": {
      "image/png": "[encoded data removed]",
      "text/plain": [
       "<Figure size 600x500 with 2 Axes>"
      ]
     },
     "metadata": {},
     "output_type": "display_data"
    }
   ],
   "source": [
    "from sklearn.metrics import confusion_matrix\n",
    "import seaborn as sns\n",
    "cm = confusion_matrix(y_test, y_pred_final)\n",
    "plt.figure(figsize=(6, 5))\n",
    "sns.heatmap(cm, annot=True, fmt='d', cmap='Greens')  \n",
    "plt.title(\"Confusion Matrix\")\n",
    "plt.xlabel(\"Predicted Label\")\n",
    "plt.ylabel(\"True Label\")\n",
    "plt.tight_layout()\n",
    "plt.show()\n"
   ]
  },
  {
   "cell_type": "code",
   "execution_count": 13,
   "id": "955ace3f",
   "metadata": {
    "execution": {
     "iopub.execute_input": "2025-07-14T16:17:42.267642Z",
     "iopub.status.busy": "2025-07-14T16:17:42.267079Z",
     "iopub.status.idle": "2025-07-14T16:17:42.281856Z",
     "shell.execute_reply": "2025-07-14T16:17:42.279906Z"
    },
    "papermill": {
     "duration": 0.037903,
     "end_time": "2025-07-14T16:17:42.284390",
     "exception": false,
     "start_time": "2025-07-14T16:17:42.246487",
     "status": "completed"
    },
    "tags": []
   },
   "outputs": [
    {
     "data": {
      "text/plain": [
       "array([0, 1, 0, ..., 0, 0, 1])"
      ]
     },
     "execution_count": 13,
     "metadata": {},
     "output_type": "execute_result"
    }
   ],
   "source": [
    "prediction=final_model.predict(test)\n",
    "prediction"
   ]
  },
  {
   "cell_type": "code",
   "execution_count": 14,
   "id": "1dbf1862",
   "metadata": {
    "execution": {
     "iopub.execute_input": "2025-07-14T16:17:42.328994Z",
     "iopub.status.busy": "2025-07-14T16:17:42.328625Z",
     "iopub.status.idle": "2025-07-14T16:17:42.338425Z",
     "shell.execute_reply": "2025-07-14T16:17:42.337001Z"
    },
    "papermill": {
     "duration": 0.031916,
     "end_time": "2025-07-14T16:17:42.340118",
     "exception": false,
     "start_time": "2025-07-14T16:17:42.308202",
     "status": "completed"
    },
    "tags": []
   },
   "outputs": [
    {
     "data": {
      "text/plain": [
       "array(['Extrovert', 'Introvert', 'Extrovert', ..., 'Extrovert',\n",
       "       'Extrovert', 'Introvert'], dtype='<U9')"
      ]
     },
     "execution_count": 14,
     "metadata": {},
     "output_type": "execute_result"
    }
   ],
   "source": [
    "mapping_dict = {0: 'Extrovert', 1: 'Introvert'}\n",
    "prediction_string = np.array([mapping_dict[val] for val in prediction])\n",
    "prediction_string\n"
   ]
  },
  {
   "cell_type": "code",
   "execution_count": 15,
   "id": "8025cbb1",
   "metadata": {
    "execution": {
     "iopub.execute_input": "2025-07-14T16:17:42.381289Z",
     "iopub.status.busy": "2025-07-14T16:17:42.380964Z",
     "iopub.status.idle": "2025-07-14T16:17:42.415323Z",
     "shell.execute_reply": "2025-07-14T16:17:42.414428Z"
    },
    "papermill": {
     "duration": 0.057112,
     "end_time": "2025-07-14T16:17:42.416804",
     "exception": false,
     "start_time": "2025-07-14T16:17:42.359692",
     "status": "completed"
    },
    "tags": []
   },
   "outputs": [
    {
     "data": {
      "text/html": [
       "<div>\n",
       "<style scoped>\n",
       "    .dataframe tbody tr th:only-of-type {\n",
       "        vertical-align: middle;\n",
       "    }\n",
       "\n",
       "    .dataframe tbody tr th {\n",
       "        vertical-align: top;\n",
       "    }\n",
       "\n",
       "    .dataframe thead th {\n",
       "        text-align: right;\n",
       "    }\n",
       "</style>\n",
       "<table border=\"1\" class=\"dataframe\">\n",
       "  <thead>\n",
       "    <tr style=\"text-align: right;\">\n",
       "      <th></th>\n",
       "      <th>id</th>\n",
       "      <th>Personality</th>\n",
       "    </tr>\n",
       "  </thead>\n",
       "  <tbody>\n",
       "    <tr>\n",
       "      <th>0</th>\n",
       "      <td>18524</td>\n",
       "      <td>Extrovert</td>\n",
       "    </tr>\n",
       "    <tr>\n",
       "      <th>1</th>\n",
       "      <td>18525</td>\n",
       "      <td>Introvert</td>\n",
       "    </tr>\n",
       "    <tr>\n",
       "      <th>2</th>\n",
       "      <td>18526</td>\n",
       "      <td>Extrovert</td>\n",
       "    </tr>\n",
       "    <tr>\n",
       "      <th>3</th>\n",
       "      <td>18527</td>\n",
       "      <td>Extrovert</td>\n",
       "    </tr>\n",
       "    <tr>\n",
       "      <th>4</th>\n",
       "      <td>18528</td>\n",
       "      <td>Introvert</td>\n",
       "    </tr>\n",
       "  </tbody>\n",
       "</table>\n",
       "</div>"
      ],
      "text/plain": [
       "      id Personality\n",
       "0  18524   Extrovert\n",
       "1  18525   Introvert\n",
       "2  18526   Extrovert\n",
       "3  18527   Extrovert\n",
       "4  18528   Introvert"
      ]
     },
     "execution_count": 15,
     "metadata": {},
     "output_type": "execute_result"
    }
   ],
   "source": [
    "submission=pd.read_csv('/kaggle/input/playground-series-s5e7/sample_submission.csv')\n",
    "submission['id']=test['id']\n",
    "submission['Personality']=prediction_string\n",
    "submission.to_csv('submission.csv',index=False)\n",
    "submission.head()"
   ]
  },
  {
   "cell_type": "code",
   "execution_count": null,
   "id": "2de23d10",
   "metadata": {
    "papermill": {
     "duration": 0.019341,
     "end_time": "2025-07-14T16:17:42.456107",
     "exception": false,
     "start_time": "2025-07-14T16:17:42.436766",
     "status": "completed"
    },
    "tags": []
   },
   "outputs": [],
   "source": []
  }
 ],
 "metadata": {
  "kaggle": {
   "accelerator": "none",
   "dataSources": [
    {
     "databundleVersionId": 12738969,
     "sourceId": 91718,
     "sourceType": "competition"
    }
   ],
   "dockerImageVersionId": 31089,
   "isGpuEnabled": false,
   "isInternetEnabled": true,
   "language": "python",
   "sourceType": "notebook"
  },
  "kernelspec": {
   "display_name": "Python 3",
   "language": "python",
   "name": "python3"
  },
  "language_info": {
   "codemirror_mode": {
    "name": "ipython",
    "version": 3
   },
   "file_extension": ".py",
   "mimetype": "text/x-python",
   "name": "python",
   "nbconvert_exporter": "python",
   "pygments_lexer": "ipython3",
   "version": "3.11.13"
  },
  "papermill": {
   "default_parameters": {},
   "duration": 80.502698,
   "end_time": "2025-07-14T16:17:43.398998",
   "environment_variables": {},
   "exception": null,
   "input_path": "__notebook__.ipynb",
   "output_path": "__notebook__.ipynb",
   "parameters": {},
   "start_time": "2025-07-14T16:16:22.896300",
   "version": "2.6.0"
  }
 },
 "nbformat": 4,
 "nbformat_minor": 5
}
