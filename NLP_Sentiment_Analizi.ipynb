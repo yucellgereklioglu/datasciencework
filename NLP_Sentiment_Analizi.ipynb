{
  "nbformat": 4,
  "nbformat_minor": 0,
  "metadata": {
    "colab": {
      "provenance": [],
      "authorship_tag": "ABX9TyPG7SA4G4lAImGxeyDZhitB",
      "include_colab_link": true
    },
    "kernelspec": {
      "name": "python3",
      "display_name": "Python 3"
    },
    "language_info": {
      "name": "python"
    }
  },
  "cells": [
    {
      "cell_type": "markdown",
      "metadata": {
        "id": "view-in-github",
        "colab_type": "text"
      },
      "source": [
        "<a href=\"https://colab.research.google.com/github/yucellgereklioglu/datasciencework/blob/main/NLP_Sentiment_Analizi.ipynb\" target=\"_parent\"><img src=\"https://colab.research.google.com/assets/colab-badge.svg\" alt=\"Open In Colab\"/></a>"
      ]
    },
    {
      "cell_type": "code",
      "source": [
        "!pip install textblob\n",
        "from textblob import TextBlob\n",
        "def analyze_sentiment_manual(text):\n",
        "    analysis = TextBlob(text)\n",
        "    polarity = analysis.sentiment.polarity\n",
        "    print(f\"Polarity: {polarity}\")\n",
        "    if polarity > 0.5:\n",
        "        return 'yüksek'\n",
        "    elif polarity < -0.5:\n",
        "        return 'duygusal'\n",
        "    else:\n",
        "        return 'sinirli'\n",
        "user_text = input(\"Ruh halinizi ifade eden bir metin girin: \")\n",
        "user_mood = analyze_sentiment_manual(user_text)\n",
        "print(f\"Önerilen tişört rengi: {suggest_tshirt(user_mood)}\")\n"
      ],
      "metadata": {
        "colab": {
          "base_uri": "https://localhost:8080/"
        },
        "id": "zL57IamK_LBc",
        "outputId": "42a0e288-6308-41df-8f4b-120c489cd7dc"
      },
      "execution_count": 28,
      "outputs": [
        {
          "output_type": "stream",
          "name": "stdout",
          "text": [
            "Requirement already satisfied: textblob in /usr/local/lib/python3.10/dist-packages (0.17.1)\n",
            "Requirement already satisfied: nltk>=3.1 in /usr/local/lib/python3.10/dist-packages (from textblob) (3.8.1)\n",
            "Requirement already satisfied: click in /usr/local/lib/python3.10/dist-packages (from nltk>=3.1->textblob) (8.1.7)\n",
            "Requirement already satisfied: joblib in /usr/local/lib/python3.10/dist-packages (from nltk>=3.1->textblob) (1.4.2)\n",
            "Requirement already satisfied: regex>=2021.8.3 in /usr/local/lib/python3.10/dist-packages (from nltk>=3.1->textblob) (2024.5.15)\n",
            "Requirement already satisfied: tqdm in /usr/local/lib/python3.10/dist-packages (from nltk>=3.1->textblob) (4.66.4)\n",
            "Ruh halinizi ifade eden bir metin girin: sinirli\n",
            "Polarity: 0.0\n",
            "Önerilen tişört rengi: Bugün modun 'sinirli' olduğuna göre sana mor tişört öneriyorum.\n"
          ]
        }
      ]
    }
  ]
}