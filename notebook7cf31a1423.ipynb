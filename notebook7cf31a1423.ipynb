{
 "cells": [
  {
   "cell_type": "code",
   "execution_count": 1,
   "id": "ac47b216",
   "metadata": {
    "_cell_guid": "b1076dfc-b9ad-4769-8c92-a6c4dae69d19",
    "_uuid": "8f2839f25d086af736a60e9eeb907d3b93b6e0e5",
    "execution": {
     "iopub.execute_input": "2025-07-27T20:58:39.716279Z",
     "iopub.status.busy": "2025-07-27T20:58:39.715986Z",
     "iopub.status.idle": "2025-07-27T20:58:41.541811Z",
     "shell.execute_reply": "2025-07-27T20:58:41.540431Z"
    },
    "papermill": {
     "duration": 1.832491,
     "end_time": "2025-07-27T20:58:41.543442",
     "exception": false,
     "start_time": "2025-07-27T20:58:39.710951",
     "status": "completed"
    },
    "tags": []
   },
   "outputs": [
    {
     "name": "stdout",
     "output_type": "stream",
     "text": [
      "/kaggle/input/playground-series-s5e7/sample_submission.csv\n",
      "/kaggle/input/playground-series-s5e7/train.csv\n",
      "/kaggle/input/playground-series-s5e7/test.csv\n"
     ]
    }
   ],
   "source": [
    "# This Python 3 environment comes with many helpful analytics libraries installed\n",
    "# It is defined by the kaggle/python Docker image: https://github.com/kaggle/docker-python\n",
    "# For example, here's several helpful packages to load\n",
    "\n",
    "import numpy as np # linear algebra\n",
    "import pandas as pd # data processing, CSV file I/O (e.g. pd.read_csv)\n",
    "\n",
    "# Input data files are available in the read-only \"../input/\" directory\n",
    "# For example, running this (by clicking run or pressing Shift+Enter) will list all files under the input directory\n",
    "\n",
    "import os\n",
    "for dirname, _, filenames in os.walk('/kaggle/input'):\n",
    "    for filename in filenames:\n",
    "        print(os.path.join(dirname, filename))\n",
    "\n",
    "# You can write up to 20GB to the current directory (/kaggle/working/) that gets preserved as output when you create a version using \"Save & Run All\" \n",
    "# You can also write temporary files to /kaggle/temp/, but they won't be saved outside of the current session"
   ]
  },
  {
   "cell_type": "code",
   "execution_count": 2,
   "id": "9a992efb",
   "metadata": {
    "execution": {
     "iopub.execute_input": "2025-07-27T20:58:41.552336Z",
     "iopub.status.busy": "2025-07-27T20:58:41.551941Z",
     "iopub.status.idle": "2025-07-27T20:58:44.397873Z",
     "shell.execute_reply": "2025-07-27T20:58:44.397020Z"
    },
    "papermill": {
     "duration": 2.852645,
     "end_time": "2025-07-27T20:58:44.399634",
     "exception": false,
     "start_time": "2025-07-27T20:58:41.546989",
     "status": "completed"
    },
    "tags": []
   },
   "outputs": [],
   "source": [
    "from sklearn.preprocessing import LabelEncoder\n",
    "from sklearn.model_selection import train_test_split\n",
    "from sklearn.metrics import accuracy_score, confusion_matrix,roc_auc_score\n",
    "from sklearn.model_selection import GridSearchCV,RandomizedSearchCV\n",
    "from sklearn.model_selection import StratifiedKFold\n",
    "from sklearn.tree import DecisionTreeClassifier\n",
    "from sklearn.ensemble import StackingClassifier\n",
    "from catboost import CatBoostClassifier\n",
    "train=pd.read_csv(\"/kaggle/input/playground-series-s5e7/train.csv\")\n",
    "test=pd.read_csv(\"/kaggle/input/playground-series-s5e7/test.csv\")"
   ]
  },
  {
   "cell_type": "code",
   "execution_count": 3,
   "id": "0ca1c20f",
   "metadata": {
    "execution": {
     "iopub.execute_input": "2025-07-27T20:58:44.407417Z",
     "iopub.status.busy": "2025-07-27T20:58:44.407085Z",
     "iopub.status.idle": "2025-07-27T20:58:44.448884Z",
     "shell.execute_reply": "2025-07-27T20:58:44.448054Z"
    },
    "papermill": {
     "duration": 0.047487,
     "end_time": "2025-07-27T20:58:44.450552",
     "exception": false,
     "start_time": "2025-07-27T20:58:44.403065",
     "status": "completed"
    },
    "tags": []
   },
   "outputs": [],
   "source": [
    "numeric_cols_train = train.select_dtypes(include=np.number).columns\n",
    "medians_train = train[numeric_cols_train].median()\n",
    "train[numeric_cols_train] = train[numeric_cols_train].fillna(medians_train)\n",
    "numeric_cols_test = test.select_dtypes(include=np.number).columns\n",
    "medians_test = test[numeric_cols_test].median()\n",
    "test[numeric_cols_test] = test[numeric_cols_test].fillna(medians_test)\n",
    "le=LabelEncoder()\n",
    "train['Stage_fear']=le.fit_transform(train['Stage_fear'])\n",
    "train['Personality']=le.fit_transform(train['Personality'])\n",
    "train['Drained_after_socializing']=le.fit_transform(train['Drained_after_socializing'])\n",
    "test['Stage_fear']=le.fit_transform(test['Stage_fear'])\n",
    "test['Drained_after_socializing']=le.fit_transform(test['Drained_after_socializing'])"
   ]
  },
  {
   "cell_type": "code",
   "execution_count": 4,
   "id": "016438c1",
   "metadata": {
    "execution": {
     "iopub.execute_input": "2025-07-27T20:58:44.458083Z",
     "iopub.status.busy": "2025-07-27T20:58:44.457803Z",
     "iopub.status.idle": "2025-07-27T20:58:44.467049Z",
     "shell.execute_reply": "2025-07-27T20:58:44.466203Z"
    },
    "papermill": {
     "duration": 0.015001,
     "end_time": "2025-07-27T20:58:44.468831",
     "exception": false,
     "start_time": "2025-07-27T20:58:44.453830",
     "status": "completed"
    },
    "tags": []
   },
   "outputs": [],
   "source": [
    "y=train['Personality']\n",
    "X=train.drop('Personality',axis=1)\n",
    "X_train,X_test,y_train,y_test=train_test_split(X,y,test_size=0.24)"
   ]
  },
  {
   "cell_type": "code",
   "execution_count": 5,
   "id": "8d43fdad",
   "metadata": {
    "execution": {
     "iopub.execute_input": "2025-07-27T20:58:44.476293Z",
     "iopub.status.busy": "2025-07-27T20:58:44.476003Z",
     "iopub.status.idle": "2025-07-27T21:02:36.788658Z",
     "shell.execute_reply": "2025-07-27T21:02:36.787544Z"
    },
    "papermill": {
     "duration": 232.321029,
     "end_time": "2025-07-27T21:02:36.793206",
     "exception": false,
     "start_time": "2025-07-27T20:58:44.472177",
     "status": "completed"
    },
    "tags": []
   },
   "outputs": [
    {
     "data": {
      "text/html": [
       "<style>#sk-container-id-1 {color: black;background-color: white;}#sk-container-id-1 pre{padding: 0;}#sk-container-id-1 div.sk-toggleable {background-color: white;}#sk-container-id-1 label.sk-toggleable__label {cursor: pointer;display: block;width: 100%;margin-bottom: 0;padding: 0.3em;box-sizing: border-box;text-align: center;}#sk-container-id-1 label.sk-toggleable__label-arrow:before {content: \"▸\";float: left;margin-right: 0.25em;color: #696969;}#sk-container-id-1 label.sk-toggleable__label-arrow:hover:before {color: black;}#sk-container-id-1 div.sk-estimator:hover label.sk-toggleable__label-arrow:before {color: black;}#sk-container-id-1 div.sk-toggleable__content {max-height: 0;max-width: 0;overflow: hidden;text-align: left;background-color: #f0f8ff;}#sk-container-id-1 div.sk-toggleable__content pre {margin: 0.2em;color: black;border-radius: 0.25em;background-color: #f0f8ff;}#sk-container-id-1 input.sk-toggleable__control:checked~div.sk-toggleable__content {max-height: 200px;max-width: 100%;overflow: auto;}#sk-container-id-1 input.sk-toggleable__control:checked~label.sk-toggleable__label-arrow:before {content: \"▾\";}#sk-container-id-1 div.sk-estimator input.sk-toggleable__control:checked~label.sk-toggleable__label {background-color: #d4ebff;}#sk-container-id-1 div.sk-label input.sk-toggleable__control:checked~label.sk-toggleable__label {background-color: #d4ebff;}#sk-container-id-1 input.sk-hidden--visually {border: 0;clip: rect(1px 1px 1px 1px);clip: rect(1px, 1px, 1px, 1px);height: 1px;margin: -1px;overflow: hidden;padding: 0;position: absolute;width: 1px;}#sk-container-id-1 div.sk-estimator {font-family: monospace;background-color: #f0f8ff;border: 1px dotted black;border-radius: 0.25em;box-sizing: border-box;margin-bottom: 0.5em;}#sk-container-id-1 div.sk-estimator:hover {background-color: #d4ebff;}#sk-container-id-1 div.sk-parallel-item::after {content: \"\";width: 100%;border-bottom: 1px solid gray;flex-grow: 1;}#sk-container-id-1 div.sk-label:hover label.sk-toggleable__label {background-color: #d4ebff;}#sk-container-id-1 div.sk-serial::before {content: \"\";position: absolute;border-left: 1px solid gray;box-sizing: border-box;top: 0;bottom: 0;left: 50%;z-index: 0;}#sk-container-id-1 div.sk-serial {display: flex;flex-direction: column;align-items: center;background-color: white;padding-right: 0.2em;padding-left: 0.2em;position: relative;}#sk-container-id-1 div.sk-item {position: relative;z-index: 1;}#sk-container-id-1 div.sk-parallel {display: flex;align-items: stretch;justify-content: center;background-color: white;position: relative;}#sk-container-id-1 div.sk-item::before, #sk-container-id-1 div.sk-parallel-item::before {content: \"\";position: absolute;border-left: 1px solid gray;box-sizing: border-box;top: 0;bottom: 0;left: 50%;z-index: -1;}#sk-container-id-1 div.sk-parallel-item {display: flex;flex-direction: column;z-index: 1;position: relative;background-color: white;}#sk-container-id-1 div.sk-parallel-item:first-child::after {align-self: flex-end;width: 50%;}#sk-container-id-1 div.sk-parallel-item:last-child::after {align-self: flex-start;width: 50%;}#sk-container-id-1 div.sk-parallel-item:only-child::after {width: 0;}#sk-container-id-1 div.sk-dashed-wrapped {border: 1px dashed gray;margin: 0 0.4em 0.5em 0.4em;box-sizing: border-box;padding-bottom: 0.4em;background-color: white;}#sk-container-id-1 div.sk-label label {font-family: monospace;font-weight: bold;display: inline-block;line-height: 1.2em;}#sk-container-id-1 div.sk-label-container {text-align: center;}#sk-container-id-1 div.sk-container {/* jupyter's `normalize.less` sets `[hidden] { display: none; }` but bootstrap.min.css set `[hidden] { display: none !important; }` so we also need the `!important` here to be able to override the default hidden behavior on the sphinx rendered scikit-learn.org. See: https://github.com/scikit-learn/scikit-learn/issues/21755 */display: inline-block !important;position: relative;}#sk-container-id-1 div.sk-text-repr-fallback {display: none;}</style><div id=\"sk-container-id-1\" class=\"sk-top-container\"><div class=\"sk-text-repr-fallback\"><pre>GridSearchCV(cv=5,\n",
       "             estimator=&lt;catboost.core.CatBoostClassifier object at 0x7d490d263dd0&gt;,\n",
       "             n_jobs=-1,\n",
       "             param_grid={&#x27;border_count&#x27;: [16, 32], &#x27;depth&#x27;: [6, 8, 10],\n",
       "                         &#x27;iterations&#x27;: [100, 150], &#x27;l2_leaf_reg&#x27;: [1, 3, 5],\n",
       "                         &#x27;learning_rate&#x27;: [0.001, 0.05, 0.1]},\n",
       "             scoring=&#x27;accuracy&#x27;)</pre><b>In a Jupyter environment, please rerun this cell to show the HTML representation or trust the notebook. <br />On GitHub, the HTML representation is unable to render, please try loading this page with nbviewer.org.</b></div><div class=\"sk-container\" hidden><div class=\"sk-item sk-dashed-wrapped\"><div class=\"sk-label-container\"><div class=\"sk-label sk-toggleable\"><input class=\"sk-toggleable__control sk-hidden--visually\" id=\"sk-estimator-id-1\" type=\"checkbox\" ><label for=\"sk-estimator-id-1\" class=\"sk-toggleable__label sk-toggleable__label-arrow\">GridSearchCV</label><div class=\"sk-toggleable__content\"><pre>GridSearchCV(cv=5,\n",
       "             estimator=&lt;catboost.core.CatBoostClassifier object at 0x7d490d263dd0&gt;,\n",
       "             n_jobs=-1,\n",
       "             param_grid={&#x27;border_count&#x27;: [16, 32], &#x27;depth&#x27;: [6, 8, 10],\n",
       "                         &#x27;iterations&#x27;: [100, 150], &#x27;l2_leaf_reg&#x27;: [1, 3, 5],\n",
       "                         &#x27;learning_rate&#x27;: [0.001, 0.05, 0.1]},\n",
       "             scoring=&#x27;accuracy&#x27;)</pre></div></div></div><div class=\"sk-parallel\"><div class=\"sk-parallel-item\"><div class=\"sk-item\"><div class=\"sk-label-container\"><div class=\"sk-label sk-toggleable\"><input class=\"sk-toggleable__control sk-hidden--visually\" id=\"sk-estimator-id-2\" type=\"checkbox\" ><label for=\"sk-estimator-id-2\" class=\"sk-toggleable__label sk-toggleable__label-arrow\">estimator: CatBoostClassifier</label><div class=\"sk-toggleable__content\"><pre>&lt;catboost.core.CatBoostClassifier object at 0x7d490d263dd0&gt;</pre></div></div></div><div class=\"sk-serial\"><div class=\"sk-item\"><div class=\"sk-estimator sk-toggleable\"><input class=\"sk-toggleable__control sk-hidden--visually\" id=\"sk-estimator-id-3\" type=\"checkbox\" ><label for=\"sk-estimator-id-3\" class=\"sk-toggleable__label sk-toggleable__label-arrow\">CatBoostClassifier</label><div class=\"sk-toggleable__content\"><pre>&lt;catboost.core.CatBoostClassifier object at 0x7d490d263dd0&gt;</pre></div></div></div></div></div></div></div></div></div></div>"
      ],
      "text/plain": [
       "GridSearchCV(cv=5,\n",
       "             estimator=<catboost.core.CatBoostClassifier object at 0x7d490d263dd0>,\n",
       "             n_jobs=-1,\n",
       "             param_grid={'border_count': [16, 32], 'depth': [6, 8, 10],\n",
       "                         'iterations': [100, 150], 'l2_leaf_reg': [1, 3, 5],\n",
       "                         'learning_rate': [0.001, 0.05, 0.1]},\n",
       "             scoring='accuracy')"
      ]
     },
     "execution_count": 5,
     "metadata": {},
     "output_type": "execute_result"
    }
   ],
   "source": [
    "params_catboost = {\n",
    "    \"iterations\": [100,150],\n",
    "    \"learning_rate\": [0.001, 0.05, 0.1],\n",
    "    \"depth\": [ 6, 8, 10],\n",
    "    \"l2_leaf_reg\": [1, 3, 5],\n",
    "    \"border_count\": [16,32]\n",
    "}\n",
    "catboost_model = CatBoostClassifier(verbose=0)  \n",
    "grid_catboost = GridSearchCV(estimator=catboost_model, param_grid=params_catboost, scoring='accuracy', cv=5, n_jobs=-1)\n",
    "grid_catboost.fit(X_train, y_train)"
   ]
  },
  {
   "cell_type": "code",
   "execution_count": 6,
   "id": "3cc32ff9",
   "metadata": {
    "execution": {
     "iopub.execute_input": "2025-07-27T21:02:36.801965Z",
     "iopub.status.busy": "2025-07-27T21:02:36.801649Z",
     "iopub.status.idle": "2025-07-27T21:02:37.158046Z",
     "shell.execute_reply": "2025-07-27T21:02:37.156931Z"
    },
    "papermill": {
     "duration": 0.362463,
     "end_time": "2025-07-27T21:02:37.159611",
     "exception": false,
     "start_time": "2025-07-27T21:02:36.797148",
     "status": "completed"
    },
    "tags": []
   },
   "outputs": [
    {
     "name": "stdout",
     "output_type": "stream",
     "text": [
      "CatBoost Test Accuracy: 0.97\n"
     ]
    }
   ],
   "source": [
    "best_catboost_model = grid_catboost.best_estimator_\n",
    "best_catboost_model.fit(X_train,y_train)\n",
    "y_test_pred_cat = best_catboost_model.predict(X_test)\n",
    "test_accuracy_cat = accuracy_score(y_test, y_test_pred_cat)\n",
    "print(f\"CatBoost Test Accuracy: {test_accuracy_cat:.2f}\")"
   ]
  },
  {
   "cell_type": "code",
   "execution_count": 7,
   "id": "c18874ec",
   "metadata": {
    "execution": {
     "iopub.execute_input": "2025-07-27T21:02:37.169844Z",
     "iopub.status.busy": "2025-07-27T21:02:37.169519Z",
     "iopub.status.idle": "2025-07-27T21:02:38.792327Z",
     "shell.execute_reply": "2025-07-27T21:02:38.791141Z"
    },
    "papermill": {
     "duration": 1.630605,
     "end_time": "2025-07-27T21:02:38.794310",
     "exception": false,
     "start_time": "2025-07-27T21:02:37.163705",
     "status": "completed"
    },
    "tags": []
   },
   "outputs": [
    {
     "name": "stdout",
     "output_type": "stream",
     "text": [
      "DecisionTree Best Parameters: {'min_samples_split': 5, 'min_samples_leaf': 2, 'max_features': None, 'max_depth': 5, 'criterion': 'entropy'}\n",
      "DecisionTree Test Accuracy: 0.97\n"
     ]
    }
   ],
   "source": [
    "params_decision_tree = {\n",
    "    \"criterion\": [\"gini\", \"entropy\"],\n",
    "    \"max_depth\": [3, 5, 10,  None],\n",
    "    \"min_samples_split\": [2, 5, 7],\n",
    "    \"min_samples_leaf\": [1, 2, 3],\n",
    "    \"max_features\": [None, \"sqrt\", \"log2\"]\n",
    "}\n",
    "decision_tree_model = DecisionTreeClassifier()\n",
    "random_decision_tree = RandomizedSearchCV(\n",
    "    estimator=decision_tree_model, \n",
    "    param_distributions=params_decision_tree, \n",
    "    n_iter=30, \n",
    "    scoring='accuracy', \n",
    "    cv=5, \n",
    "    random_state=42, \n",
    "    n_jobs=-1\n",
    ")\n",
    "random_decision_tree.fit(X_train, y_train)\n",
    "print(\"DecisionTree Best Parameters:\", random_decision_tree.best_params_)\n",
    "y_test_pred_decision_tree = random_decision_tree.best_estimator_.predict(X_test)\n",
    "test_accuracy_decision_tree = accuracy_score(y_test, y_test_pred_decision_tree)\n",
    "print(f\"DecisionTree Test Accuracy: {test_accuracy_decision_tree:.2f}\")"
   ]
  },
  {
   "cell_type": "code",
   "execution_count": 8,
   "id": "a8251f70",
   "metadata": {
    "execution": {
     "iopub.execute_input": "2025-07-27T21:02:38.802550Z",
     "iopub.status.busy": "2025-07-27T21:02:38.802193Z",
     "iopub.status.idle": "2025-07-27T21:02:38.838479Z",
     "shell.execute_reply": "2025-07-27T21:02:38.837290Z"
    },
    "papermill": {
     "duration": 0.042135,
     "end_time": "2025-07-27T21:02:38.840061",
     "exception": false,
     "start_time": "2025-07-27T21:02:38.797926",
     "status": "completed"
    },
    "tags": []
   },
   "outputs": [
    {
     "name": "stdout",
     "output_type": "stream",
     "text": [
      "DecisionTree Test Accuracy: 0.97\n"
     ]
    }
   ],
   "source": [
    "best_dt_model = random_decision_tree.best_estimator_\n",
    "best_dt_model.fit(X_train, y_train)\n",
    "y_test_pred_dt = best_dt_model.predict(X_test)\n",
    "test_accuracy_dt = accuracy_score(y_test, y_test_pred_dt)\n",
    "print(f\"DecisionTree Test Accuracy: {test_accuracy_dt:.2f}\")"
   ]
  },
  {
   "cell_type": "code",
   "execution_count": 9,
   "id": "a334a2b5",
   "metadata": {
    "execution": {
     "iopub.execute_input": "2025-07-27T21:02:38.848632Z",
     "iopub.status.busy": "2025-07-27T21:02:38.848243Z",
     "iopub.status.idle": "2025-07-27T21:02:38.856068Z",
     "shell.execute_reply": "2025-07-27T21:02:38.854734Z"
    },
    "papermill": {
     "duration": 0.014027,
     "end_time": "2025-07-27T21:02:38.857909",
     "exception": false,
     "start_time": "2025-07-27T21:02:38.843882",
     "status": "completed"
    },
    "tags": []
   },
   "outputs": [],
   "source": [
    "from sklearn.preprocessing import LabelEncoder\n",
    "\n",
    "test_encoded = test.copy()\n",
    "for col in test_encoded.select_dtypes(include=['object']).columns:\n",
    "    test_encoded[col] = LabelEncoder().fit_transform(test_encoded[col])\n",
    "test.fillna(0,inplace=True)    \n",
    "\n"
   ]
  },
  {
   "cell_type": "code",
   "execution_count": 10,
   "id": "39e5fc97",
   "metadata": {
    "execution": {
     "iopub.execute_input": "2025-07-27T21:02:38.868338Z",
     "iopub.status.busy": "2025-07-27T21:02:38.868057Z",
     "iopub.status.idle": "2025-07-27T21:02:38.872753Z",
     "shell.execute_reply": "2025-07-27T21:02:38.871958Z"
    },
    "papermill": {
     "duration": 0.012414,
     "end_time": "2025-07-27T21:02:38.874274",
     "exception": false,
     "start_time": "2025-07-27T21:02:38.861860",
     "status": "completed"
    },
    "tags": []
   },
   "outputs": [],
   "source": [
    "from xgboost import XGBClassifier\n",
    "xgb_meta = XGBClassifier(\n",
    "    n_estimators=1000,\n",
    "    learning_rate=0.05,\n",
    "    max_depth=10,\n",
    "    subsample=0.4,\n",
    "    colsample_bytree=0.5,\n",
    "    use_label_encoder=False,\n",
    "    eval_metric='logloss',\n",
    "    random_state=42\n",
    ")\n"
   ]
  },
  {
   "cell_type": "code",
   "execution_count": 11,
   "id": "e6adb85b",
   "metadata": {
    "execution": {
     "iopub.execute_input": "2025-07-27T21:02:38.882430Z",
     "iopub.status.busy": "2025-07-27T21:02:38.882120Z",
     "iopub.status.idle": "2025-07-27T21:02:38.886596Z",
     "shell.execute_reply": "2025-07-27T21:02:38.885655Z"
    },
    "papermill": {
     "duration": 0.010491,
     "end_time": "2025-07-27T21:02:38.888253",
     "exception": false,
     "start_time": "2025-07-27T21:02:38.877762",
     "status": "completed"
    },
    "tags": []
   },
   "outputs": [],
   "source": [
    "estimators = [\n",
    "    ('dt', best_dt_model),               \n",
    "    ('catboost', best_catboost_model)    \n",
    "]\n"
   ]
  },
  {
   "cell_type": "code",
   "execution_count": 12,
   "id": "f33506e4",
   "metadata": {
    "execution": {
     "iopub.execute_input": "2025-07-27T21:02:38.896498Z",
     "iopub.status.busy": "2025-07-27T21:02:38.896193Z",
     "iopub.status.idle": "2025-07-27T21:04:47.970235Z",
     "shell.execute_reply": "2025-07-27T21:04:47.969165Z"
    },
    "papermill": {
     "duration": 129.079985,
     "end_time": "2025-07-27T21:04:47.971827",
     "exception": false,
     "start_time": "2025-07-27T21:02:38.891842",
     "status": "completed"
    },
    "tags": []
   },
   "outputs": [
    {
     "name": "stdout",
     "output_type": "stream",
     "text": [
      "Best parameters: {'final_estimator__C': 10, 'final_estimator__penalty': 'l1'}\n",
      "Best ROC AUC: 0.9675\n",
      "\n",
      "✅ Training Fold 1...\n",
      "Fold 1 AUC: 0.9692 | Accuracy: 0.9687 | Optimal Threshold: 0.2134\n",
      "\n",
      "✅ Training Fold 2...\n",
      "Fold 2 AUC: 0.9665 | Accuracy: 0.9676 | Optimal Threshold: 0.2073\n",
      "\n",
      "✅ Training Fold 3...\n",
      "Fold 3 AUC: 0.9614 | Accuracy: 0.9665 | Optimal Threshold: 0.4139\n",
      "\n",
      "✅ Training Fold 4...\n",
      "Fold 4 AUC: 0.9697 | Accuracy: 0.9698 | Optimal Threshold: 0.2346\n",
      "\n",
      "✅ Training Fold 5...\n",
      "Fold 5 AUC: 0.9707 | Accuracy: 0.9714 | Optimal Threshold: 0.4377\n"
     ]
    }
   ],
   "source": [
    "from sklearn.linear_model import LogisticRegression\n",
    "from sklearn.model_selection import GridSearchCV\n",
    "from sklearn.metrics import roc_curve\n",
    "\n",
    "# Optimized Logistic Regression Meta Model\n",
    "log_meta = LogisticRegression(\n",
    "    solver='liblinear',  # Good for small datasets, supports L1/L2\n",
    "    random_state=42,\n",
    "    class_weight='balanced',  # Handle class imbalance\n",
    "    max_iter=1000  # Ensure convergence\n",
    ")\n",
    "def find_optimal_threshold(y_true, y_pred_proba):\n",
    "    fpr, tpr, thresholds = roc_curve(y_true, y_pred_proba)\n",
    "    optimal_idx = np.argmax(tpr - fpr)\n",
    "    optimal_threshold = thresholds[optimal_idx]\n",
    "    return optimal_threshold\n",
    "\n",
    "stacking_clf = StackingClassifier(\n",
    "    estimators=estimators,\n",
    "    final_estimator=log_meta,\n",
    "    passthrough=True,\n",
    "    cv=5\n",
    ")\n",
    "param_grid = {\n",
    "    'final_estimator__C': [0.001, 0.01, 0.1, 1, 10, 100],\n",
    "    'final_estimator__penalty': ['l1', 'l2']\n",
    "}\n",
    "grid_search = GridSearchCV(\n",
    "    estimator=stacking_clf,\n",
    "    param_grid=param_grid,\n",
    "    cv=StratifiedKFold(n_splits=5, shuffle=True, random_state=42),\n",
    "    scoring='roc_auc',\n",
    "    n_jobs=-1\n",
    ")\n",
    "\n",
    "grid_search.fit(X, y)\n",
    "best_stacking_clf = grid_search.best_estimator_\n",
    "\n",
    "print(f\"Best parameters: {grid_search.best_params_}\")\n",
    "print(f\"Best ROC AUC: {grid_search.best_score_:.4f}\")\n",
    "\n",
    "skf = StratifiedKFold(n_splits=5, shuffle=True, random_state=42)\n",
    "auc_scores = []\n",
    "accuracy_lst = []\n",
    "test_predict = np.zeros(len(test_encoded))\n",
    "optimal_thresholds = []\n",
    "\n",
    "for fold, (train_index, val_index) in enumerate(skf.split(X, y)):\n",
    "    print(f\"\\n✅ Training Fold {fold + 1}...\")\n",
    "    X_train, X_val = X.iloc[train_index], X.iloc[val_index]\n",
    "    y_train, y_val = y.iloc[train_index], y.iloc[val_index]\n",
    "    \n",
    "    best_stacking_clf.fit(X_train, y_train)\n",
    "    y_pred_proba = best_stacking_clf.predict_proba(X_val)[:, 1]\n",
    "    optimal_threshold = find_optimal_threshold(y_val, y_pred_proba)\n",
    "    optimal_thresholds.append(optimal_threshold)\n",
    "    y_pred_label = (y_pred_proba >= optimal_threshold).astype(int)\n",
    "    \n",
    "    auc = roc_auc_score(y_val, y_pred_proba)\n",
    "    acc_score = accuracy_score(y_val, y_pred_label)\n",
    "    \n",
    "    print(f\"Fold {fold + 1} AUC: {auc:.4f} | Accuracy: {acc_score:.4f} | Optimal Threshold: {optimal_threshold:.4f}\")\n",
    "    auc_scores.append(auc)\n",
    "    accuracy_lst.append(acc_score)\n",
    "    test_predict += best_stacking_clf.predict_proba(test_encoded)[:, 1] / skf.n_splits\n",
    "mean_optimal_threshold = np.mean(optimal_thresholds)\n",
    "final_test_predictions = (test_predict >= mean_optimal_threshold).astype(int)"
   ]
  },
  {
   "cell_type": "code",
   "execution_count": 13,
   "id": "b999856e",
   "metadata": {
    "execution": {
     "iopub.execute_input": "2025-07-27T21:04:47.980340Z",
     "iopub.status.busy": "2025-07-27T21:04:47.980078Z",
     "iopub.status.idle": "2025-07-27T21:04:47.997723Z",
     "shell.execute_reply": "2025-07-27T21:04:47.996928Z"
    },
    "papermill": {
     "duration": 0.023718,
     "end_time": "2025-07-27T21:04:47.999374",
     "exception": false,
     "start_time": "2025-07-27T21:04:47.975656",
     "status": "completed"
    },
    "tags": []
   },
   "outputs": [],
   "source": [
    "submission=pd.read_csv('/kaggle/input/playground-series-s5e7/sample_submission.csv')"
   ]
  },
  {
   "cell_type": "code",
   "execution_count": 14,
   "id": "5234341a",
   "metadata": {
    "execution": {
     "iopub.execute_input": "2025-07-27T21:04:48.008607Z",
     "iopub.status.busy": "2025-07-27T21:04:48.008290Z",
     "iopub.status.idle": "2025-07-27T21:04:48.032709Z",
     "shell.execute_reply": "2025-07-27T21:04:48.031662Z"
    },
    "papermill": {
     "duration": 0.030946,
     "end_time": "2025-07-27T21:04:48.034342",
     "exception": false,
     "start_time": "2025-07-27T21:04:48.003396",
     "status": "completed"
    },
    "tags": []
   },
   "outputs": [],
   "source": [
    "prediction=best_stacking_clf.predict(test)\n",
    "mapping_dict = {0: 'Extrovert', 1: 'Introvert'}\n",
    "prediction_string=prediction_string = np.array([mapping_dict[val] for val in prediction])\n",
    "prediction_string\n",
    "submission['id']=test['id']\n",
    "submission['Personality']=prediction_string\n",
    "submission.to_csv(\"submission.csv\", index=False)"
   ]
  },
  {
   "cell_type": "code",
   "execution_count": 15,
   "id": "cda1f088",
   "metadata": {
    "execution": {
     "iopub.execute_input": "2025-07-27T21:04:48.043456Z",
     "iopub.status.busy": "2025-07-27T21:04:48.042898Z",
     "iopub.status.idle": "2025-07-27T21:04:48.061059Z",
     "shell.execute_reply": "2025-07-27T21:04:48.060147Z"
    },
    "papermill": {
     "duration": 0.024747,
     "end_time": "2025-07-27T21:04:48.063091",
     "exception": false,
     "start_time": "2025-07-27T21:04:48.038344",
     "status": "completed"
    },
    "tags": []
   },
   "outputs": [
    {
     "data": {
      "text/html": [
       "<div>\n",
       "<style scoped>\n",
       "    .dataframe tbody tr th:only-of-type {\n",
       "        vertical-align: middle;\n",
       "    }\n",
       "\n",
       "    .dataframe tbody tr th {\n",
       "        vertical-align: top;\n",
       "    }\n",
       "\n",
       "    .dataframe thead th {\n",
       "        text-align: right;\n",
       "    }\n",
       "</style>\n",
       "<table border=\"1\" class=\"dataframe\">\n",
       "  <thead>\n",
       "    <tr style=\"text-align: right;\">\n",
       "      <th></th>\n",
       "      <th>id</th>\n",
       "      <th>Personality</th>\n",
       "    </tr>\n",
       "  </thead>\n",
       "  <tbody>\n",
       "    <tr>\n",
       "      <th>0</th>\n",
       "      <td>18524</td>\n",
       "      <td>Extrovert</td>\n",
       "    </tr>\n",
       "    <tr>\n",
       "      <th>1</th>\n",
       "      <td>18525</td>\n",
       "      <td>Introvert</td>\n",
       "    </tr>\n",
       "    <tr>\n",
       "      <th>2</th>\n",
       "      <td>18526</td>\n",
       "      <td>Extrovert</td>\n",
       "    </tr>\n",
       "    <tr>\n",
       "      <th>3</th>\n",
       "      <td>18527</td>\n",
       "      <td>Extrovert</td>\n",
       "    </tr>\n",
       "    <tr>\n",
       "      <th>4</th>\n",
       "      <td>18528</td>\n",
       "      <td>Introvert</td>\n",
       "    </tr>\n",
       "  </tbody>\n",
       "</table>\n",
       "</div>"
      ],
      "text/plain": [
       "      id Personality\n",
       "0  18524   Extrovert\n",
       "1  18525   Introvert\n",
       "2  18526   Extrovert\n",
       "3  18527   Extrovert\n",
       "4  18528   Introvert"
      ]
     },
     "execution_count": 15,
     "metadata": {},
     "output_type": "execute_result"
    }
   ],
   "source": [
    "submission.head()"
   ]
  },
  {
   "cell_type": "code",
   "execution_count": null,
   "id": "a522f6b8",
   "metadata": {
    "papermill": {
     "duration": 0.003605,
     "end_time": "2025-07-27T21:04:48.071091",
     "exception": false,
     "start_time": "2025-07-27T21:04:48.067486",
     "status": "completed"
    },
    "tags": []
   },
   "outputs": [],
   "source": []
  }
 ],
 "metadata": {
  "kaggle": {
   "accelerator": "none",
   "dataSources": [
    {
     "databundleVersionId": 12738969,
     "sourceId": 91718,
     "sourceType": "competition"
    }
   ],
   "dockerImageVersionId": 31089,
   "isGpuEnabled": false,
   "isInternetEnabled": true,
   "language": "python",
   "sourceType": "notebook"
  },
  "kernelspec": {
   "display_name": "Python 3",
   "language": "python",
   "name": "python3"
  },
  "language_info": {
   "codemirror_mode": {
    "name": "ipython",
    "version": 3
   },
   "file_extension": ".py",
   "mimetype": "text/x-python",
   "name": "python",
   "nbconvert_exporter": "python",
   "pygments_lexer": "ipython3",
   "version": "3.11.13"
  },
  "papermill": {
   "default_parameters": {},
   "duration": 375.626564,
   "end_time": "2025-07-27T21:04:50.695707",
   "environment_variables": {},
   "exception": null,
   "input_path": "__notebook__.ipynb",
   "output_path": "__notebook__.ipynb",
   "parameters": {},
   "start_time": "2025-07-27T20:58:35.069143",
   "version": "2.6.0"
  }
 },
 "nbformat": 4,
 "nbformat_minor": 5
}
